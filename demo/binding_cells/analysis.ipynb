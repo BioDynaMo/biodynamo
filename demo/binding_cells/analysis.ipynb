{
 "cells": [
  {
   "cell_type": "code",
   "execution_count": null,
   "metadata": {},
   "outputs": [],
   "source": [
    "import ROOT\n",
    "from ROOT import TFile, TCanvas, TGraph, gROOT, gSystem\n",
    "from array import array\n",
    "ROOT.enableJSVis()"
   ]
  },
  {
   "cell_type": "code",
   "execution_count": null,
   "metadata": {},
   "outputs": [],
   "source": [
    "# The directory of the binding_cells demo\n",
    "output_dir = \"/path/to/binding_cells\""
   ]
  },
  {
   "cell_type": "code",
   "execution_count": null,
   "metadata": {},
   "outputs": [],
   "source": [
    "dict_dir = output_dir + \"/build/libbinding_cells.so\"\n",
    "gSystem.Load(dict_dir)"
   ]
  },
  {
   "cell_type": "code",
   "execution_count": null,
   "metadata": {},
   "outputs": [],
   "source": [
    "file = output_dir + \"/results.root\"\n",
    "f = TFile(file)\n",
    "results = gROOT.FindObject(\"binding_cells\")\n",
    "\n",
    "marker = 3500\n",
    "\n",
    "c1 = TCanvas( 'c1', 'A Simple Graph Example', 200, 10, 700, 500 )\n",
    "c1.SetGrid()\n",
    "\n",
    "activity_at_marker = []\n",
    "initial_concentration = []\n",
    "for event in results:\n",
    "    initial_concentration.append(event.binding_cells.initial_concentration)\n",
    "    activity_at_marker.append(event.binding_cells.activity[marker])\n",
    "\n",
    "activity_at_marker = [x for y, x in sorted(zip(initial_concentration, activity_at_marker))]\n",
    "initial_concentration = sorted(initial_concentration)\n",
    "percentages = [100 * (x / max(activity_at_marker)) for x in activity_at_marker]\n",
    "# print(activity_at_marker)\n",
    "# print(initial_concentration)\n",
    "gr = TGraph(len(activity_at_marker), array('d', initial_concentration), array('d', percentages))\n",
    "gr.SetTitle('Effect of Anti-PD-1 Concentration on T-Cell Activation ')\n",
    "gr.GetXaxis().SetTitle( 'Log [mAb] (M)' )\n",
    "gr.GetYaxis().SetTitle( 'Activated T-Cells (%)' )\n",
    "gr.SetLineWidth( 2 )\n",
    "gr.GetXaxis().SetTitleOffset(1.4);\n",
    "c1.SetLogx()\n",
    "gr.Draw('ALP')\n",
    "\n",
    "c1.Update()\n",
    "c1.Draw()\n"
   ]
  },
  {
   "cell_type": "code",
   "execution_count": null,
   "metadata": {},
   "outputs": [],
   "source": []
  }
 ],
 "metadata": {
  "kernelspec": {
   "display_name": "Python 3",
   "language": "python",
   "name": "python3"
  },
  "language_info": {
   "codemirror_mode": {
    "name": "ipython",
    "version": 3
   },
   "file_extension": ".py",
   "mimetype": "text/x-python",
   "name": "python",
   "nbconvert_exporter": "python",
   "pygments_lexer": "ipython3",
   "version": "3.8.0"
  }
 },
 "nbformat": 4,
 "nbformat_minor": 2
}
