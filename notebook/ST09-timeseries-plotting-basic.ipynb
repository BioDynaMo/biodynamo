{
 "cells": [
  {
   "cell_type": "markdown",
   "id": "27e05215",
   "metadata": {},
   "source": [
    "# Simulation time series plotting (basics)\n",
    "\n",
    "**Author: Lukas Breitwieser**<br>\n",
    "In this tutorial we show how to collect data during the simulation and plot it at the end.<br>\n",
    "To this extent, we create a simulation where cells divide rapidly leading to exponential growth."
   ]
  },
  {
   "cell_type": "markdown",
   "id": "61e7a91d",
   "metadata": {},
   "source": [
    "Let's start by setting up BioDynaMo notebooks."
   ]
  },
  {
   "cell_type": "code",
   "execution_count": null,
   "id": "ef7edf86",
   "metadata": {},
   "outputs": [],
   "source": [
    "%jsroot on\n",
    "gROOT->LoadMacro(\"${BDMSYS}/etc/rootlogon.C\");"
   ]
  },
  {
   "cell_type": "code",
   "execution_count": null,
   "id": "46333689",
   "metadata": {},
   "outputs": [],
   "source": [
    "using namespace bdm::experimental;"
   ]
  },
  {
   "cell_type": "code",
   "execution_count": null,
   "id": "6921b944",
   "metadata": {},
   "outputs": [],
   "source": [
    "auto set_param = [](Param* param) {\n",
    "    param->simulation_time_step = 1.0;\n",
    "};\n",
    "Simulation simulation(\"MySimulation\", set_param);"
   ]
  },
  {
   "cell_type": "markdown",
   "id": "81271f84",
   "metadata": {},
   "source": [
    "Let's create a behavior which divides cells with $10\\%$ probability in each time step.<br>\n",
    "New cells should also get this behavior.<br>\n",
    "Therefore, we have to call `AlwaysCopyToNew()`. <br>\n",
    "Otherwise, we would only see linear growth."
   ]
  },
  {
   "cell_type": "code",
   "execution_count": null,
   "id": "55a9d0bd",
   "metadata": {},
   "outputs": [],
   "source": [
    "StatelessBehavior rapid_division([](Agent* agent) {\n",
    "  if (Simulation::GetActive()->GetRandom()->Uniform() < 0.1) {\n",
    "    bdm_static_cast<Cell*>(agent)->Divide();\n",
    "  }\n",
    "});\n",
    "rapid_division.AlwaysCopyToNew();"
   ]
  },
  {
   "cell_type": "markdown",
   "id": "efac4965",
   "metadata": {},
   "source": [
    "Let's create a function that creates a cell at a specific position, with diameter = 10, and the `rapid_division` behavior."
   ]
  },
  {
   "cell_type": "code",
   "execution_count": null,
   "id": "a50d084a",
   "metadata": {},
   "outputs": [],
   "source": [
    "auto create_cell = [](const Real3& position) {\n",
    "  Cell* cell = new Cell(position);\n",
    "  cell->SetDiameter(10);\n",
    "  cell->AddBehavior(rapid_division.NewCopy());\n",
    "  return cell;\n",
    "};"
   ]
  },
  {
   "cell_type": "markdown",
   "id": "f7738e8f",
   "metadata": {},
   "source": [
    "As starting condition we want to create 100 cells randomly distributed in a cube with $min = 0, max = 200$"
   ]
  },
  {
   "cell_type": "code",
   "execution_count": null,
   "id": "bac61f01",
   "metadata": {},
   "outputs": [],
   "source": [
    "simulation.GetResourceManager()->ClearAgents();\n",
    "ModelInitializer::CreateAgentsRandom(0, 200, 100, create_cell);\n",
    "simulation.GetScheduler()->FinalizeInitialization();\n",
    "VisualizeInNotebook();"
   ]
  },
  {
   "cell_type": "markdown",
   "id": "273d7037",
   "metadata": {},
   "source": [
    "Before we start the simulation, we have to tell BioDynaMo which data to collect.<br>\n",
    "We can do this with the `TimeSeries::AddCollector` function.\n",
    "In this example we are interested in the number of agents.<br>"
   ]
  },
  {
   "cell_type": "code",
   "execution_count": null,
   "id": "8b3d62c1",
   "metadata": {},
   "outputs": [],
   "source": [
    "auto* ts = simulation.GetTimeSeries();\n",
    "auto get_num_agents = [](Simulation* sim) {\n",
    "  return static_cast<real_t>(sim->GetResourceManager()->GetNumAgents());\n",
    "};\n",
    "ts->AddCollector(\"num-agents\", get_num_agents);"
   ]
  },
  {
   "cell_type": "markdown",
   "id": "f3f4783d",
   "metadata": {},
   "source": [
    "Now let's simulate until there are 4000 agents in the simulation"
   ]
  },
  {
   "cell_type": "code",
   "execution_count": null,
   "id": "1ce235bb",
   "metadata": {},
   "outputs": [],
   "source": [
    "auto exit_condition = [](){\n",
    "    auto* rm = Simulation::GetActive()->GetResourceManager();\n",
    "    return rm->GetNumAgents() > 4000;\n",
    "};\n",
    "simulation.GetScheduler()->SimulateUntil(exit_condition);"
   ]
  },
  {
   "cell_type": "markdown",
   "id": "b9a24d69",
   "metadata": {},
   "source": [
    "Now we can plot how the number of agents (in this case cells) evolved over time."
   ]
  },
  {
   "cell_type": "code",
   "execution_count": null,
   "id": "a7e92b2b",
   "metadata": {},
   "outputs": [],
   "source": [
    "LineGraph g(ts, \"My result\", \"Time\", \"Number of agents\", true, nullptr, 500, 300);\n",
    "g.Add(\"num-agents\", \"Number of Agents\");\n",
    "g.Draw();"
   ]
  }
 ],
 "metadata": {
  "kernelspec": {
   "display_name": "ROOT C++",
   "language": "c++",
   "name": "root"
  },
  "language_info": {
   "codemirror_mode": "text/x-c++src",
   "file_extension": ".C",
   "mimetype": " text/x-c++src",
   "name": "c++"
  }
 },
 "nbformat": 4,
 "nbformat_minor": 5
}
