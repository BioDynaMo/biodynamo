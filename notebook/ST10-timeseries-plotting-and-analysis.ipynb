{
 "cells": [
  {
   "cell_type": "markdown",
   "id": "32a23b2c",
   "metadata": {},
   "source": [
    "# Simulation time series plotting and analysis\n",
    "\n",
    "**Author: Lukas Breitwieser**<br>\n",
    "In this tutorial we show how to collect data during the simulation, and plot and analyse it at the end.<br>\n",
    "To this extent, we create a simulation where cells divide rapidly leading to exponential growth."
   ]
  },
  {
   "cell_type": "markdown",
   "id": "f05fc59b",
   "metadata": {},
   "source": [
    "Let's start by setting up BioDynaMo notebooks."
   ]
  },
  {
   "cell_type": "code",
   "execution_count": null,
   "id": "ef7edf86",
   "metadata": {},
   "outputs": [],
   "source": [
    "%jsroot on\n",
    "gROOT->LoadMacro(\"${BDMSYS}/etc/rootlogon.C\");"
   ]
  },
  {
   "cell_type": "code",
   "execution_count": null,
   "id": "38f30ea8",
   "metadata": {},
   "outputs": [],
   "source": [
    "using namespace bdm::experimental;"
   ]
  },
  {
   "cell_type": "code",
   "execution_count": null,
   "id": "3b033786",
   "metadata": {},
   "outputs": [],
   "source": [
    "auto set_param = [](Param* param) {\n",
    "    param->simulation_time_step = 1.0;\n",
    "};\n",
    "Simulation simulation(\"MySimulation\", set_param);"
   ]
  },
  {
   "cell_type": "markdown",
   "id": "f9dac184",
   "metadata": {},
   "source": [
    "Let's create a behavior which divides cells with $5\\%$ probability in each time step.<br>\n",
    "New cells should also get this behavior.<br>\n",
    "Therefore, we have to call `AlwaysCopyToNew()`. <br>\n",
    "Otherwise, we would only see linear growth."
   ]
  },
  {
   "cell_type": "code",
   "execution_count": null,
   "id": "55a9d0bd",
   "metadata": {},
   "outputs": [],
   "source": [
    "StatelessBehavior rapid_division([](Agent* agent) {\n",
    "  if (Simulation::GetActive()->GetRandom()->Uniform() < 0.05) {\n",
    "    bdm_static_cast<Cell*>(agent)->Divide();\n",
    "  }\n",
    "});\n",
    "rapid_division.AlwaysCopyToNew();"
   ]
  },
  {
   "cell_type": "markdown",
   "id": "d55bc904",
   "metadata": {},
   "source": [
    "Let's create a function that creates a cell at a specific position, with diameter = 10, and the `rapid_division` behavior."
   ]
  },
  {
   "cell_type": "code",
   "execution_count": null,
   "id": "a50d084a",
   "metadata": {},
   "outputs": [],
   "source": [
    "auto create_cell = [](const Real3& position) {\n",
    "  Cell* cell = new Cell(position);\n",
    "  cell->SetDiameter(10);\n",
    "  cell->AddBehavior(rapid_division.NewCopy());\n",
    "  return cell;\n",
    "};"
   ]
  },
  {
   "cell_type": "markdown",
   "id": "306f90b8",
   "metadata": {},
   "source": [
    "As starting condition we want to create 100 cells randomly distributed in a cube with $min = 0, max = 200$"
   ]
  },
  {
   "cell_type": "code",
   "execution_count": null,
   "id": "bac61f01",
   "metadata": {},
   "outputs": [],
   "source": [
    "simulation.GetResourceManager()->ClearAgents();\n",
    "ModelInitializer::CreateAgentsRandom(0, 200, 100, create_cell);\n",
    "simulation.GetScheduler()->FinalizeInitialization();\n",
    "VisualizeInNotebook();"
   ]
  },
  {
   "cell_type": "markdown",
   "id": "c35e0f44",
   "metadata": {},
   "source": [
    "Before we start the simulation, we have to tell BioDynaMo which data to collect.<br>\n",
    "We can do this with the TimeSeries::AddCollector function. <br>\n",
    "In this example we are interested in the number of agents ..."
   ]
  },
  {
   "cell_type": "code",
   "execution_count": null,
   "id": "8b3d62c1",
   "metadata": {},
   "outputs": [],
   "source": [
    "auto* ts = simulation.GetTimeSeries();\n",
    "auto get_num_agents = [](Simulation* sim) {\n",
    "  return static_cast<real_t>(sim->GetResourceManager()->GetNumAgents());\n",
    "};\n",
    "ts->AddCollector(\"num-agents\", get_num_agents);"
   ]
  },
  {
   "cell_type": "markdown",
   "id": "7b6353cd",
   "metadata": {},
   "source": [
    "...  and the number agents with $diameter < 5$.<br>\n",
    "We create a condition `cond` and pass it to an instance of `Counter` which calculates the number of agents for which `cond(agent)` evaluates to true."
   ]
  },
  {
   "cell_type": "code",
   "execution_count": null,
   "id": "fe964505",
   "metadata": {},
   "outputs": [],
   "source": [
    "auto cond = [](Agent* a) { return a->GetDiameter() < 5; };\n",
    "ts->AddCollector(\"agents_lt_5\", new bdm::experimental::Counter<real_t>(cond));"
   ]
  },
  {
   "cell_type": "markdown",
   "id": "e014efbf",
   "metadata": {},
   "source": [
    "Now let's simulate 40 iterations"
   ]
  },
  {
   "cell_type": "code",
   "execution_count": null,
   "id": "1ce235bb",
   "metadata": {},
   "outputs": [],
   "source": [
    "simulation.GetScheduler()->Simulate(40);"
   ]
  },
  {
   "cell_type": "markdown",
   "id": "1718298b",
   "metadata": {},
   "source": [
    "Now we can plot how the number of agents (in this case cells) and the number of agents with $diameter < 5$ evolved over time."
   ]
  },
  {
   "cell_type": "code",
   "execution_count": null,
   "id": "a7e92b2b",
   "metadata": {},
   "outputs": [],
   "source": [
    "LineGraph g(ts, \"my result\", \"Time\", \"Number of agents\", \n",
    "                               true, nullptr, 500, 300);\n",
    "g.Add(\"num-agents\", \"Number of Agents\", \"L\", kBlue);\n",
    "g.Add(\"agents_lt_5\", \"Number of Agents diam < 5\", \"L\", kGreen);\n",
    "g.Draw();"
   ]
  },
  {
   "cell_type": "markdown",
   "id": "74fcca1f",
   "metadata": {},
   "source": [
    "Let's try to fit an exponential function to verify our assumption that the cells grew exponentially.<br>\n",
    "Please visit the [ROOT user-guide](https://root.cern.ch/root/htmldoc/guides/users-guide/FittingHistograms.html) for more information regarding fitting "
   ]
  },
  {
   "cell_type": "code",
   "execution_count": null,
   "id": "7aa6ad92",
   "metadata": {},
   "outputs": [],
   "source": [
    "auto fitresult = g.GetTGraphs(\"num-agents\")[0]->Fit(\"expo\", \"S\");\n",
    "g.Draw();"
   ]
  },
  {
   "cell_type": "markdown",
   "id": "6b395b71",
   "metadata": {},
   "source": [
    "Indeed, the number of agents follow an exponential function $$y = \\exp(slope * x + constant)$$ with constant = 4.6 and slope = 0.049\n",
    "This corresponds to the division probability of $0.05$ "
   ]
  },
  {
   "cell_type": "markdown",
   "id": "3f2b70b1",
   "metadata": {},
   "source": [
    "This is how to change the color after the creation of `g`.<br>\n",
    "Also the position of the legend can be optimized."
   ]
  },
  {
   "cell_type": "code",
   "execution_count": null,
   "id": "1c53fe3e",
   "metadata": {},
   "outputs": [],
   "source": [
    "g.GetTGraphs(\"num-agents\")[0]->SetLineColor(kBlack);\n",
    "g.SetLegendPos(1, 500, 20, 700);\n",
    "g.Draw();"
   ]
  },
  {
   "cell_type": "markdown",
   "id": "64245848",
   "metadata": {},
   "source": [
    "Let's save these results in multiple formats"
   ]
  },
  {
   "cell_type": "code",
   "execution_count": null,
   "id": "92d716a1",
   "metadata": {},
   "outputs": [],
   "source": [
    "g.SaveAs(Concat(simulation.GetOutputDir(), \"/line-graph\"), \n",
    "         {\".root\", \".svg\", \".png\", \".C\"});"
   ]
  }
 ],
 "metadata": {
  "kernelspec": {
   "display_name": "ROOT C++",
   "language": "c++",
   "name": "root"
  },
  "language_info": {
   "codemirror_mode": "text/x-c++src",
   "file_extension": ".C",
   "mimetype": " text/x-c++src",
   "name": "c++"
  }
 },
 "nbformat": 4,
 "nbformat_minor": 5
}
