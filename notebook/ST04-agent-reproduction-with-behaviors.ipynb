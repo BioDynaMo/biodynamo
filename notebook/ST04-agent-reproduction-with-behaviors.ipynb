{
 "cells": [
  {
   "cell_type": "markdown",
   "id": "fe622041",
   "metadata": {},
   "source": [
    "# Agent reproduction with behaviors\n",
    "\n",
    "**Author: Lukas Breitwieser**<br>\n",
    "In tutorial `ST3-agent-reproduction-mortality` we have explored how to add and remove agents from the simulation.\n",
    "In this tutorial we want to explore different behavior options to control if a new agent gets a behavior from the original agent, and if a behavior will be removed from the original one.\n",
    "\n",
    "Let's start by setting up BioDynaMo notebooks."
   ]
  },
  {
   "cell_type": "code",
   "execution_count": null,
   "id": "628dae37",
   "metadata": {},
   "outputs": [],
   "source": [
    "%jsroot on\n",
    "gROOT->LoadMacro(\"${BDMSYS}/etc/rootlogon.C\");"
   ]
  },
  {
   "cell_type": "markdown",
   "id": "f1b6d8d3",
   "metadata": {},
   "source": [
    "We define a simple behavior which prints `has print behavior`."
   ]
  },
  {
   "cell_type": "code",
   "execution_count": null,
   "id": "dd7a38db",
   "metadata": {},
   "outputs": [],
   "source": [
    "StatelessBehavior print_behavior([](Agent* agent) {\n",
    "  std::cout << \"  has print behavior\" << std::endl;\n",
    "});"
   ]
  },
  {
   "cell_type": "markdown",
   "id": "a54cef7c",
   "metadata": {},
   "source": [
    "We define the following experiment which we will run with different options of the `print_behavior`.<br>\n",
    "We create a cell, add a copy of the `print_behavior`, and run all behaviors. \n",
    "We expect that the following output is created.\n",
    "```\n",
    "mother: \n",
    "  has print behavior\n",
    "```\n",
    "Afterwards we print a seperator `-------` to indicate cell division, divide the mother cell and run the behaviors of daughter 1 and daughter 2.\n",
    "By definition the original mother cell turns into daugther 1 and the new agent becomes daughter 2."
   ]
  },
  {
   "cell_type": "code",
   "execution_count": null,
   "id": "71ea49a5",
   "metadata": {},
   "outputs": [],
   "source": [
    "void Experiment() {\n",
    "    Simulation sim(\"my-simulation\");\n",
    "    auto* mother = new Cell();\n",
    "    mother->AddBehavior(print_behavior.NewCopy());\n",
    "    std::cout << \"mother: \" << std::endl;\n",
    "    mother->RunBehaviors();\n",
    "    std::cout << \"---------------------\" << std::endl;\n",
    "    auto* daughter2 = mother->Divide();\n",
    "    std::cout << \"mother = daughter 1: \" << std::endl;\n",
    "    mother->RunBehaviors(); // mother = daughter 1\n",
    "    std::cout << \"daughter 2: \" << std::endl;\n",
    "    daughter2->RunBehaviors();\n",
    "}"
   ]
  },
  {
   "cell_type": "markdown",
   "id": "90413d31",
   "metadata": {},
   "source": [
    "Let's run the experiment with default parameters and see what happens."
   ]
  },
  {
   "cell_type": "code",
   "execution_count": null,
   "id": "e6839f0e",
   "metadata": {},
   "outputs": [],
   "source": [
    "Experiment();"
   ]
  },
  {
   "cell_type": "markdown",
   "id": "05f00e5b",
   "metadata": {},
   "source": [
    "The `print_behavior` was **not copied** to the daughter 2 cell and was **not removed** from the mother cell.\n",
    "\n",
    "---\n",
    "\n",
    "Let's try to copy the behavior from the mother cell to daughter 2."
   ]
  },
  {
   "cell_type": "code",
   "execution_count": null,
   "id": "09e6d449",
   "metadata": {},
   "outputs": [],
   "source": [
    "print_behavior.AlwaysCopyToNew();\n",
    "Experiment();"
   ]
  },
  {
   "cell_type": "markdown",
   "id": "a429d714",
   "metadata": {},
   "source": [
    "Now the `print_behavior` **was copied** to the daughter 2 cell and was **not removed** from the mother cell.\n",
    "\n",
    "---\n",
    "\n",
    "Let's try to remove the behavior from the mother cell."
   ]
  },
  {
   "cell_type": "code",
   "execution_count": null,
   "id": "3131f214",
   "metadata": {},
   "outputs": [],
   "source": [
    "print_behavior.AlwaysCopyToNew();\n",
    "print_behavior.AlwaysRemoveFromExisting();\n",
    "Experiment();"
   ]
  },
  {
   "cell_type": "markdown",
   "id": "49235127",
   "metadata": {},
   "source": [
    "Now the `print_behavior` **was copied** to the daughter 2 cell and **was removed** from the mother cell.\n",
    "\n",
    "---\n",
    "\n",
    "Let's reset the values to the default."
   ]
  },
  {
   "cell_type": "code",
   "execution_count": null,
   "id": "45f93c49",
   "metadata": {},
   "outputs": [],
   "source": [
    "print_behavior.NeverCopyToNew();\n",
    "print_behavior.NeverRemoveFromExisting();\n",
    "Experiment();"
   ]
  },
  {
   "cell_type": "markdown",
   "id": "0de424e4",
   "metadata": {},
   "source": [
    "Behaviors provide also more fine-grained distinction. Some agents support multiple [new agent events](https://biodynamo.org/docs/userguide/new_agent_event/): neurite branching, neurite bifurcation, side neurite extension, etc.\n",
    "For each event we can specify if the behavior should be copied to the new, or removed from the existing agent."
   ]
  },
  {
   "cell_type": "code",
   "execution_count": null,
   "id": "77d63217",
   "metadata": {},
   "outputs": [],
   "source": [
    "print_behavior.CopyToNewIf({CellDivisionEvent::kUid});\n",
    "print_behavior.RemoveFromExistingIf({CellDivisionEvent::kUid});\n",
    "Experiment();"
   ]
  }
 ],
 "metadata": {
  "kernelspec": {
   "display_name": "ROOT C++",
   "language": "c++",
   "name": "root"
  },
  "language_info": {
   "codemirror_mode": "text/x-c++src",
   "file_extension": ".C",
   "mimetype": " text/x-c++src",
   "name": "c++"
  }
 },
 "nbformat": 4,
 "nbformat_minor": 5
}
