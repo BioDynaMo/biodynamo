{
 "cells": [
  {
   "cell_type": "markdown",
   "id": "a81151f9",
   "metadata": {},
   "source": [
    "# Dynamic scheduling\n",
    "\n",
    "**Author: Lukas Breitwieser**<br>\n",
    "This tutorial demonstrates that behaviors and operations can be added and removed during the simulation.\n",
    "This feature provides maximum flexibility to control which functions will be executed during the lifetime of a simulation."
   ]
  },
  {
   "cell_type": "markdown",
   "id": "ef10be44",
   "metadata": {},
   "source": [
    "Let's start by setting up BioDynaMo notebooks."
   ]
  },
  {
   "cell_type": "code",
   "execution_count": null,
   "id": "201082b4",
   "metadata": {},
   "outputs": [],
   "source": [
    "%jsroot on\n",
    "gROOT->LoadMacro(\"${BDMSYS}/etc/rootlogon.C\");"
   ]
  },
  {
   "cell_type": "code",
   "execution_count": null,
   "id": "d1d5fdc4",
   "metadata": {},
   "outputs": [],
   "source": [
    "auto* ctxt = simulation.GetExecutionContext();\n",
    "auto* scheduler = simulation.GetScheduler();"
   ]
  },
  {
   "cell_type": "markdown",
   "id": "09c18d30",
   "metadata": {},
   "source": [
    "Define a helper variable"
   ]
  },
  {
   "cell_type": "code",
   "execution_count": null,
   "id": "c39d7149",
   "metadata": {},
   "outputs": [],
   "source": [
    "int test_op_id = 0;"
   ]
  },
  {
   "cell_type": "markdown",
   "id": "f0506762",
   "metadata": {},
   "source": [
    "We define a standalone operation `TestOp` which prints out that it got executed and which removes itself from the list of scheduled operations afterwards. The same principles apply also for agent operations."
   ]
  },
  {
   "cell_type": "code",
   "execution_count": null,
   "id": "d650b370",
   "metadata": {},
   "outputs": [],
   "source": [
    "struct TestOp : public StandaloneOperationImpl {\n",
    "  BDM_OP_HEADER(TestOp);\n",
    "  void operator()() override {\n",
    "    auto* scheduler = Simulation::GetActive()->GetScheduler();\n",
    "    std::cout << name << \" processing iteration \" \n",
    "              << scheduler->GetSimulatedSteps() \n",
    "              << std::endl; \n",
    "\n",
    "    auto* op = scheduler->GetOps(\"test_op\")[test_op_id++];\n",
    "    scheduler->UnscheduleOp(op);\n",
    "      \n",
    "    std::cout << \"  \" << name \n",
    "          << \" removed itself from the simulation \" << std::endl;\n",
    "  }\n",
    "  std::string name = \"\";\n",
    "};\n",
    "OperationRegistry::GetInstance()->AddOperationImpl(\n",
    "    \"test_op\", OpComputeTarget::kCpu, new TestOp());"
   ]
  },
  {
   "cell_type": "markdown",
   "id": "08de84e8",
   "metadata": {},
   "source": [
    "Let's define a little helper function which creates a new instance of `TestOp` and adds it to the list of scheduled operations."
   ]
  },
  {
   "cell_type": "code",
   "execution_count": null,
   "id": "59162209",
   "metadata": {},
   "outputs": [],
   "source": [
    "void AddNewTestOpToSim(const std::string& name) {\n",
    "    auto* op = NewOperation(\"test_op\");\n",
    "    op->GetImplementation<TestOp>()->name = name;\n",
    "    scheduler->ScheduleOp(op);\n",
    "}"
   ]
  },
  {
   "cell_type": "markdown",
   "id": "5301eb93",
   "metadata": {},
   "source": [
    "Let's define a new behavior `b2` which prints out when it gets executed and which adds a new operation with name `OP2` to the simulation if a condition is met.\n",
    "\n",
    "In this scenario the condition is defined as `simulation time step == 1`."
   ]
  },
  {
   "cell_type": "code",
   "execution_count": null,
   "id": "62f14b53",
   "metadata": {},
   "outputs": [],
   "source": [
    "StatelessBehavior b2([](Agent* agent) {\n",
    "    std::cout << \"B2 \" << agent->GetUid() << std::endl;\n",
    "    if (simulation.GetScheduler()->GetSimulatedSteps() == 1) {\n",
    "        AddNewTestOpToSim(\"OP2\");\n",
    "        std::cout << \"  B2 added OP2 to the simulation\" << std::endl;\n",
    "    }\n",
    "});"
   ]
  },
  {
   "cell_type": "markdown",
   "id": "1f724a55",
   "metadata": {},
   "source": [
    "We define another behavior `b1` which prints out when it gets executed, removes itself from the agent, and which adds behavior `b2` to the agent."
   ]
  },
  {
   "cell_type": "code",
   "execution_count": null,
   "id": "af44d774",
   "metadata": {},
   "outputs": [],
   "source": [
    "StatelessBehavior b1([](Agent* agent) {\n",
    "    std::cout << \"B1 \" << agent->GetUid() << std::endl;\n",
    "    agent->RemoveBehavior(agent->GetAllBehaviors()[0]);\n",
    "    std::cout << \"  B1 removed itself from agent \" << agent->GetUid() << std::endl;\n",
    "    agent->AddBehavior(b2.NewCopy());\n",
    "    std::cout << \"  B1 added B2 to agent \" << agent->GetUid() << std::endl;\n",
    "});"
   ]
  },
  {
   "cell_type": "markdown",
   "id": "de61161c",
   "metadata": {},
   "source": [
    "Now all required building blocks are ready. Let's define the initial model: a single agent with behavior `b1`."
   ]
  },
  {
   "cell_type": "code",
   "execution_count": null,
   "id": "8d36312f",
   "metadata": {},
   "outputs": [],
   "source": [
    "auto* agent = new SphericalAgent();\n",
    "agent->AddBehavior(b1.NewCopy());\n",
    "ctxt->AddAgent(agent);"
   ]
  },
  {
   "cell_type": "markdown",
   "id": "af9d3f69",
   "metadata": {},
   "source": [
    "We also add a new operation to the simulation."
   ]
  },
  {
   "cell_type": "code",
   "execution_count": null,
   "id": "c7a1189f",
   "metadata": {},
   "outputs": [],
   "source": [
    "AddNewTestOpToSim(\"OP1\");"
   ]
  },
  {
   "cell_type": "markdown",
   "id": "3e7b7086",
   "metadata": {},
   "source": [
    "Let's simulate one iteration and think about the expected output.\n",
    "* Since we initialized our only agent with behavior `b1`, we expect to see a line `B1 0-0`\n",
    "* Furthermore, `b1` will print a line to inform us that it removed itself from the agent, and that it added behavior `b2` to the agent.\n",
    "* Because changes are applied immediately (using the default `InPlaceExecCtxt`) also `B2` will be executed. However the condition inside `b2` is not met.\n",
    "* Next we expect an output from `OP1` telling us that it got executed.\n",
    "* Lastly, we expect an output from `OP1` to tell is that it removed itself from the simulation."
   ]
  },
  {
   "cell_type": "code",
   "execution_count": null,
   "id": "e78cf8b9",
   "metadata": {},
   "outputs": [],
   "source": [
    "scheduler->Simulate(1);"
   ]
  },
  {
   "cell_type": "markdown",
   "id": "f5f7837a",
   "metadata": {},
   "source": [
    "Let's simulate another iteration.<br>\n",
    "This time we only expect output from `B2`.\n",
    "Remember that `B1` and `OP1` have been removed in the last iteration.\n",
    "\n",
    "This time the condition in `B2` is met and we expect to see an output line to tell us that a new instance of `TestOp` with name `OP2` has been added to the simulation."
   ]
  },
  {
   "cell_type": "code",
   "execution_count": null,
   "id": "be462af4",
   "metadata": {},
   "outputs": [],
   "source": [
    "scheduler->Simulate(1);"
   ]
  },
  {
   "cell_type": "markdown",
   "id": "8803ce5e",
   "metadata": {},
   "source": [
    "Let's simulate another iteration.\n",
    "This time we expect an output from `B2` whose condition is not met in this iterations, and from `OP2` that it got executed and removed from the simulation."
   ]
  },
  {
   "cell_type": "code",
   "execution_count": null,
   "id": "0943f9aa",
   "metadata": {},
   "outputs": [],
   "source": [
    "scheduler->Simulate(1);"
   ]
  },
  {
   "cell_type": "markdown",
   "id": "b21667f1",
   "metadata": {},
   "source": [
    "Let's simulate one last iteration.\n",
    "`OP2` removed itself in the last iteration. Therefore, only `B2` should be left. The condition of `B2` is not met. "
   ]
  },
  {
   "cell_type": "code",
   "execution_count": null,
   "id": "325eb8a5",
   "metadata": {},
   "outputs": [],
   "source": [
    "scheduler->Simulate(1);"
   ]
  },
  {
   "cell_type": "markdown",
   "id": "4fd1e20c",
   "metadata": {},
   "source": [
    "In summary: \n",
    "We initialized the simulation with `B1` and `OP1`.\n",
    "\n",
    "In iteration:\n",
    "\n",
    "0. B1 removed, B2 added, OP1 removed\n",
    "1. OP2 added\n",
    "2. OP2 removed"
   ]
  }
 ],
 "metadata": {
  "kernelspec": {
   "display_name": "ROOT C++",
   "language": "c++",
   "name": "root"
  },
  "language_info": {
   "codemirror_mode": "text/x-c++src",
   "file_extension": ".C",
   "mimetype": " text/x-c++src",
   "name": "c++"
  }
 },
 "nbformat": 4,
 "nbformat_minor": 5
}
