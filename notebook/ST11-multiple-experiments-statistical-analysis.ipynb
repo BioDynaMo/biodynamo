{
 "cells": [
  {
   "cell_type": "markdown",
   "id": "27e05215",
   "metadata": {},
   "source": [
    "# Multiple experiments and statistical analysis\n",
    "\n",
    "**Author: Lukas Breitwieser**<br>\n",
    "In this tutorial we show how to collect and analyse data from multiple experiments.<br>\n",
    "To this extent, we create a simulation where cells divide rapidly leading to exponential growth."
   ]
  },
  {
   "cell_type": "markdown",
   "id": "302c3309",
   "metadata": {},
   "source": [
    "Let's start by setting up BioDynaMo notebooks."
   ]
  },
  {
   "cell_type": "code",
   "execution_count": null,
   "id": "ef7edf86",
   "metadata": {},
   "outputs": [],
   "source": [
    "%jsroot on\n",
    "gROOT->LoadMacro(\"${BDMSYS}/etc/rootlogon.C\");"
   ]
  },
  {
   "cell_type": "code",
   "execution_count": null,
   "id": "c5d8d40b",
   "metadata": {},
   "outputs": [],
   "source": [
    "using namespace bdm::experimental;"
   ]
  },
  {
   "cell_type": "code",
   "execution_count": null,
   "id": "adc6bce5",
   "metadata": {},
   "outputs": [],
   "source": [
    "double gDivProb = 0.05;"
   ]
  },
  {
   "cell_type": "markdown",
   "id": "102c177f",
   "metadata": {},
   "source": [
    "We use the same simulation as in `ST09-timeseries-plotting-basic`. \n",
    "It is a simulation were agents divide with a specific division probability in each time step leading to exponential growth. We collect the number of agents in each time step.\n",
    "Have a look at `ST09-timeseries-plotting-basic` for more information. \n",
    "\n",
    "We wrap the required simulation code in a function called `Experiment` which takes two parameters:\n",
    "* the collected result data from a single invocation (output param)\n",
    "* the division probability parameter "
   ]
  },
  {
   "cell_type": "code",
   "execution_count": null,
   "id": "4b5c3f40",
   "metadata": {},
   "outputs": [],
   "source": [
    "void Experiment(TimeSeries* result, double division_probability) {\n",
    "    gDivProb = division_probability;\n",
    "    \n",
    "    auto set_param = [](Param* param) {\n",
    "        param->simulation_time_step = 1.0;\n",
    "    };\n",
    "    Simulation simulation(\"MySimulation\", set_param);\n",
    "    \n",
    "    StatelessBehavior rapid_division([](Agent* agent) {\n",
    "      if (Simulation::GetActive()->GetRandom()->Uniform() < gDivProb) {\n",
    "        bdm_static_cast<Cell*>(agent)->Divide();\n",
    "      }\n",
    "    });\n",
    "    rapid_division.AlwaysCopyToNew();\n",
    "    \n",
    "    auto create_cell = [&](const Double3& position) {\n",
    "      Cell* cell = new Cell(position);\n",
    "      cell->SetDiameter(10);\n",
    "      cell->AddBehavior(rapid_division.NewCopy());\n",
    "      return cell;\n",
    "    };\n",
    "    \n",
    "    simulation.GetResourceManager()->ClearAgents();\n",
    "    ModelInitializer::CreateAgentsRandom(0, 200, 100, create_cell);\n",
    "    simulation.GetScheduler()->FinalizeInitialization();\n",
    "    \n",
    "    auto* ts = simulation.GetTimeSeries();\n",
    "    auto get_num_agents = [](Simulation* sim) {\n",
    "      return static_cast<double>(sim->GetResourceManager()->GetNumAgents());\n",
    "    };\n",
    "    ts->AddCollector(\"num-agents\", get_num_agents);\n",
    "    \n",
    "    simulation.GetScheduler()->Simulate(40);\n",
    "    \n",
    "    // move collected time series data from simulation to object result\n",
    "    *result = std::move(*simulation.GetTimeSeries());\n",
    "}"
   ]
  },
  {
   "cell_type": "markdown",
   "id": "f4f7b3b8",
   "metadata": {},
   "source": [
    "We want to run our experiment for 10 times with a different division probability parameter.\n",
    "We choose the division probability randomly between 0.04 and 0.06"
   ]
  },
  {
   "cell_type": "code",
   "execution_count": null,
   "id": "c115283f",
   "metadata": {},
   "outputs": [],
   "source": [
    "std::vector<TimeSeries> individual_results(10);\n",
    "Random rnd;\n",
    "for(auto& ir : individual_results) {\n",
    "    Experiment(&ir, rnd.Uniform(0.04, 0.06));\n",
    "}"
   ]
  },
  {
   "cell_type": "markdown",
   "id": "d78ace15",
   "metadata": {},
   "source": [
    "In the next step we want to combine the individual results. Therefore we calculate the mean, and min (error low), and max (error high) and store it in a merged `TimeSeries` object."
   ]
  },
  {
   "cell_type": "code",
   "execution_count": null,
   "id": "52af58c2",
   "metadata": {},
   "outputs": [],
   "source": [
    "TimeSeries merged;\n",
    "auto merger = [](const std::vector<double>& all_ys, \n",
    "                  double* y, double* eh, double* el) {\n",
    "    *y = TMath::Mean(all_ys.begin(), all_ys.end());\n",
    "    *el = *y - *TMath::LocMin(all_ys.begin(), all_ys.end());\n",
    "    *eh = *TMath::LocMax(all_ys.begin(), all_ys.end()) - *y;\n",
    "};\n",
    "TimeSeries::Merge(&merged, individual_results, merger);"
   ]
  },
  {
   "cell_type": "markdown",
   "id": "7fbecc45",
   "metadata": {},
   "source": [
    "Now we can print the merged results and see how the simulations evolved over time, and how they differed from each other."
   ]
  },
  {
   "cell_type": "code",
   "execution_count": null,
   "id": "ebd013ea",
   "metadata": {},
   "outputs": [],
   "source": [
    "LineGraph g(&merged, \"My result\", \"Time\", \"Number of agents\", false, nullptr, 500, 300);\n",
    "g.Add(\"num-agents\", \"Number of Agents\", \"LP\", kBlue);\n",
    "g.Draw();"
   ]
  },
  {
   "cell_type": "markdown",
   "id": "cb193f1d",
   "metadata": {},
   "source": [
    "Finally, let's fit an exponential function to the data."
   ]
  },
  {
   "cell_type": "code",
   "execution_count": null,
   "id": "130bb51e",
   "metadata": {},
   "outputs": [],
   "source": [
    "g.GetTMultiGraph()->Fit(\"expo\", \"S\");\n",
    "g.Draw()"
   ]
  }
 ],
 "metadata": {
  "kernelspec": {
   "display_name": "ROOT C++",
   "language": "c++",
   "name": "root"
  },
  "language_info": {
   "codemirror_mode": "text/x-c++src",
   "file_extension": ".C",
   "mimetype": " text/x-c++src",
   "name": "c++"
  }
 },
 "nbformat": 4,
 "nbformat_minor": 5
}
