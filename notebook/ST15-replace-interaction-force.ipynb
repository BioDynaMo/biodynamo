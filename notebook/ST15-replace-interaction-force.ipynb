{
 "cells": [
  {
   "cell_type": "markdown",
   "id": "744e5067",
   "metadata": {},
   "source": [
    "# Replace mechanical interaction force\n",
    "\n",
    "**Author: Lukas Breitwieser**<br>\n",
    "This tutorial demonstrates how to replace BioDynaMo's default interaction force with a user-defined one.\n",
    "The interaction force is used to calculate forces between agent pairs that are in physical contact with each other.\n",
    "\n",
    "\n",
    "Let's start by setting up BioDynaMo notebooks."
   ]
  },
  {
   "cell_type": "code",
   "execution_count": null,
   "id": "cc6fcee9",
   "metadata": {},
   "outputs": [],
   "source": [
    "%jsroot on\n",
    "gROOT->LoadMacro(\"${BDMSYS}/etc/rootlogon.C\");"
   ]
  },
  {
   "cell_type": "code",
   "execution_count": null,
   "id": "0e1fdc1a",
   "metadata": {},
   "outputs": [],
   "source": [
    "#include \"core/operation/mechanical_forces_op.h\""
   ]
  },
  {
   "cell_type": "markdown",
   "id": "821c1990",
   "metadata": {},
   "source": [
    "We modify the `simulation_max_displacement` parameter to better visualize the difference of the user-defined force that we will add."
   ]
  },
  {
   "cell_type": "code",
   "execution_count": null,
   "id": "0dd52b08",
   "metadata": {},
   "outputs": [],
   "source": [
    "auto set_param = [](Param* p) {\n",
    "    p->simulation_max_displacement = 50;\n",
    "};\n",
    "Simulation simulation(\"my-simulation\", set_param);"
   ]
  },
  {
   "cell_type": "markdown",
   "id": "4a798834",
   "metadata": {},
   "source": [
    "In our experiment we create two overlapping cells and visualize the starting condition."
   ]
  },
  {
   "cell_type": "code",
   "execution_count": null,
   "id": "38207a67",
   "metadata": {},
   "outputs": [],
   "source": [
    "void Experiment() {\n",
    "    simulation.GetResourceManager()->ClearAgents();\n",
    "    auto* ctxt = simulation.GetExecutionContext();\n",
    "    auto* scheduler = simulation.GetScheduler();\n",
    "    \n",
    "    auto* cell1 = new Cell({0, 0, 0});\n",
    "    auto* cell2 = new Cell({10, 0, 0});\n",
    "    cell1->SetDiameter(20);\n",
    "    cell2->SetDiameter(20);\n",
    "    cell1->SetMass(0.1);\n",
    "    cell2->SetMass(0.1);\n",
    "\n",
    "    ctxt->AddAgent(cell1);\n",
    "    ctxt->AddAgent(cell2);\n",
    "    \n",
    "    scheduler->FinalizeInitialization();\n",
    "    VisualizeInNotebook();\n",
    "}"
   ]
  },
  {
   "cell_type": "markdown",
   "id": "4c558d1e",
   "metadata": {},
   "source": [
    "Let's run our experiment and have a look at the visualization."
   ]
  },
  {
   "cell_type": "code",
   "execution_count": null,
   "id": "b8b6889c",
   "metadata": {},
   "outputs": [],
   "source": [
    "Experiment();"
   ]
  },
  {
   "cell_type": "markdown",
   "id": "e4b46995",
   "metadata": {},
   "source": [
    "We continue by simulating 10 iterations and observe how the mechanical force pushed the two cells away from each other, until they don't overlap anymore."
   ]
  },
  {
   "cell_type": "code",
   "execution_count": null,
   "id": "e3e20ef1",
   "metadata": {},
   "outputs": [],
   "source": [
    "auto* scheduler = simulation.GetScheduler();\n",
    "scheduler->Simulate(10);\n",
    "VisualizeInNotebook();"
   ]
  },
  {
   "cell_type": "markdown",
   "id": "f28bf2eb",
   "metadata": {},
   "source": [
    "Now we want to add our user-defined force implementation. \n",
    "First, we have to subclass `InteractionForce` and implement our force. \n",
    "In this case, it is an extremely simple (and unrealistic) implementation."
   ]
  },
  {
   "cell_type": "code",
   "execution_count": null,
   "id": "a123cee0",
   "metadata": {},
   "outputs": [],
   "source": [
    "class MyInteractionForce : public InteractionForce {\n",
    "  public:\n",
    "    MyInteractionForce() {}\n",
    "    virtual ~MyInteractionForce() {}\n",
    "    \n",
    "    Double4 Calculate(const Agent* lhs, const Agent* rhs) const override {\n",
    "        if (lhs < rhs) {\n",
    "            return {100, 0, 0, 0};\n",
    "        } else {\n",
    "            return {-100, 0, 0, 0};\n",
    "        }\n",
    "    }\n",
    "    \n",
    "    InteractionForce* NewCopy() const override { return new MyInteractionForce(); }\n",
    "};"
   ]
  },
  {
   "cell_type": "markdown",
   "id": "b141ec01",
   "metadata": {},
   "source": [
    "With the following three lines we instruct BioDynaMo to use our new `MyInteractionForce` instead of the default implementation."
   ]
  },
  {
   "cell_type": "code",
   "execution_count": null,
   "id": "d2b6d8e8",
   "metadata": {},
   "outputs": [],
   "source": [
    "auto* myforce = new MyInteractionForce();\n",
    "auto* op = scheduler->GetOps(\"mechanical forces\")[0];\n",
    "op->GetImplementation<MechanicalForcesOp>()->SetInteractionForce(myforce);"
   ]
  },
  {
   "cell_type": "markdown",
   "id": "938d808b",
   "metadata": {},
   "source": [
    "We create the same starting condition as before."
   ]
  },
  {
   "cell_type": "code",
   "execution_count": null,
   "id": "6f1d4b1e",
   "metadata": {},
   "outputs": [],
   "source": [
    "Experiment();"
   ]
  },
  {
   "cell_type": "markdown",
   "id": "d5e4f1af",
   "metadata": {},
   "source": [
    "Because `myforce` is so strong, it is sufficient to simulate only one iteration to clearly see its impact."
   ]
  },
  {
   "cell_type": "code",
   "execution_count": null,
   "id": "597840f2",
   "metadata": {},
   "outputs": [],
   "source": [
    "auto* scheduler = simulation.GetScheduler();\n",
    "scheduler->Simulate(1);\n",
    "VisualizeInNotebook();"
   ]
  }
 ],
 "metadata": {
  "kernelspec": {
   "display_name": "ROOT C++",
   "language": "c++",
   "name": "root"
  },
  "language_info": {
   "codemirror_mode": "text/x-c++src",
   "file_extension": ".C",
   "mimetype": " text/x-c++src",
   "name": "c++"
  }
 },
 "nbformat": 4,
 "nbformat_minor": 5
}
