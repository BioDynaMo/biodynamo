{
 "cells": [
  {
   "cell_type": "markdown",
   "id": "cfece0db",
   "metadata": {},
   "source": [
    "# Agent reproduction advanced\n",
    "\n",
    "**Author: Lukas Breitwieser**<br>\n",
    "In the tutorials so far we used `Cell::Divide` to create new agents.\n",
    "In this demo we want to show how to define your own \"process\" that creates a new agent.\n",
    "Furthermore, we will explain the purpose of the functions `Agent::Initialize` and `Agent::Update`.\n",
    "\n",
    "Assume that we want to create a new agent type `Human` which should be able to `GiveBirth`.\n",
    "\n",
    "Let's start by initializing BioDynaMo notebooks."
   ]
  },
  {
   "cell_type": "code",
   "execution_count": null,
   "id": "6a3a1fa6",
   "metadata": {},
   "outputs": [],
   "source": [
    "%jsroot on\n",
    "gROOT->LoadMacro(\"${BDMSYS}/etc/rootlogon.C\");"
   ]
  },
  {
   "cell_type": "code",
   "execution_count": null,
   "id": "27ce5b1f",
   "metadata": {},
   "outputs": [],
   "source": [
    "auto* ctxt = simulation.GetExecutionContext();\n",
    "auto* scheduler = simulation.GetScheduler();"
   ]
  },
  {
   "cell_type": "markdown",
   "id": "c11074ec",
   "metadata": {},
   "source": [
    "Let's start by creating the `ChildBirthEvent`.\n",
    "In this example we do not need any attributes."
   ]
  },
  {
   "cell_type": "code",
   "execution_count": null,
   "id": "459c519c",
   "metadata": {},
   "outputs": [],
   "source": [
    "struct ChildBirthEvent : public NewAgentEvent {\n",
    "  ChildBirthEvent() {}\n",
    "  virtual ~ChildBirthEvent() {}\n",
    "  NewAgentEventUid GetUid() const override { \n",
    "      static NewAgentEventUid kUid = \n",
    "          NewAgentEventUidGenerator::GetInstance()->GenerateUid();\n",
    "      return kUid; \n",
    "  }\n",
    "};"
   ]
  },
  {
   "cell_type": "markdown",
   "id": "a53261d2",
   "metadata": {},
   "source": [
    "We continue by defining the class `Human` which derives from `SphericalAgent`."
   ]
  },
  {
   "cell_type": "code",
   "execution_count": null,
   "id": "71c326cd",
   "metadata": {},
   "outputs": [],
   "source": [
    "class Human : public SphericalAgent {\n",
    "  BDM_AGENT_HEADER(Human, SphericalAgent, 1);\n",
    "\n",
    " public:\n",
    "  Human() {}\n",
    "  explicit Human(const Double3& position) : Base(position) {}\n",
    "  virtual ~Human() {}\n",
    "\n",
    "  void GiveBirth();\n",
    "  void Initialize(const NewAgentEvent& event) override;\n",
    "};"
   ]
  },
  {
   "cell_type": "markdown",
   "id": "0fcf5d2b",
   "metadata": {},
   "source": [
    "The implementation of `GiveBirth` only requires two lines of code. <br>"
   ]
  },
  {
   "cell_type": "code",
   "execution_count": null,
   "id": "99ad043e",
   "metadata": {},
   "outputs": [],
   "source": [
    "void Human::GiveBirth() {\n",
    "    ChildBirthEvent event;\n",
    "    CreateNewAgents(event, {this});\n",
    "}"
   ]
  },
  {
   "cell_type": "markdown",
   "id": "07dec17c",
   "metadata": {},
   "source": [
    "First, creating an instance of the event. <br>\n",
    "Second, invoking `CreateNewAgents` function which is defined in class `Agent`.\n",
    "\n",
    "The first parameter of `CreateNewAgents` takes an event object, and the second a vector of agent prototypes.\n",
    "The size of this vector determines how many new agents will be created. \n",
    "In our case: one. If twins should be born we could change it to `CreateNewAgents(event, {this, this});`.\n",
    "\n",
    "But why do we have to pass a list of agent pointers to the function?\n",
    "\n",
    "The answer is simple: we have to tell `CreateNewAgents` which agent type it should create. \n",
    "In our use case we want to create another instance of class `Human`. Therefore, we pass the `this` pointer.\n",
    "\n",
    "The only part missing is to tell BioDynaMo how to initialize the attributes of the new child.\n",
    "This decision is encapsulated in the `Initialize` function which we override from the base class.\n",
    "Don't forget to also call the implementation of the base class using `Base::Initialize(event)`.\n",
    "Otherwise the intialization of the base class is skipped.\n",
    "\n",
    "In our example we define that the child should be created next to the mother in 3D space. "
   ]
  },
  {
   "cell_type": "code",
   "execution_count": null,
   "id": "e0cb0aa4",
   "metadata": {},
   "outputs": [],
   "source": [
    "void Human::Initialize(const NewAgentEvent& event) {\n",
    "    Base::Initialize(event);\n",
    "    auto* mother = bdm_static_cast<Human*>(event.existing_agent);\n",
    "    SetPosition(mother->GetPosition() + Double3{2, 0, 0});\n",
    "}"
   ]
  },
  {
   "cell_type": "markdown",
   "id": "51d74f7d",
   "metadata": {},
   "source": [
    "This concludes all required building blocks. Let's try it out!"
   ]
  },
  {
   "cell_type": "code",
   "execution_count": null,
   "id": "8eb0fea1",
   "metadata": {},
   "outputs": [],
   "source": [
    "auto* human = new Human();\n",
    "ctxt->AddAgent(human);"
   ]
  },
  {
   "cell_type": "code",
   "execution_count": null,
   "id": "8dea1e59",
   "metadata": {},
   "outputs": [],
   "source": [
    "human->GiveBirth();"
   ]
  },
  {
   "cell_type": "code",
   "execution_count": null,
   "id": "044c370a",
   "metadata": {},
   "outputs": [],
   "source": [
    "scheduler->Simulate(1);\n",
    "VisualizeInNotebook();"
   ]
  },
  {
   "cell_type": "markdown",
   "id": "66a018d2",
   "metadata": {},
   "source": [
    "As expected the simulation consists of two \"humans\".\n",
    "\n",
    "----\n",
    "\n",
    "Let's take this one step further.\n",
    "Let's assume that class `Human` was provided in a library that we don't want to modify.\n",
    "However, we want to add two more attributes: \n",
    "* the number of offsprings\n",
    "* the mitochondiral dna (Note: the mitochondrial dna is inherited solely from the mother)\n",
    "\n",
    "Let's create a new class called `MyHuman` which derives from `Human` and which adds these two attributes."
   ]
  },
  {
   "cell_type": "code",
   "execution_count": null,
   "id": "1bdfdd23",
   "metadata": {},
   "outputs": [],
   "source": [
    "using MitochondrialDNA = int;"
   ]
  },
  {
   "cell_type": "code",
   "execution_count": null,
   "id": "b4d66427",
   "metadata": {},
   "outputs": [],
   "source": [
    "class MyHuman : public Human {\n",
    "  BDM_AGENT_HEADER(MyHuman, Human, 1);\n",
    "\n",
    " public:\n",
    "  MyHuman() {}\n",
    "  explicit MyHuman(const Double3& position) : Base(position) {}\n",
    "  virtual ~MyHuman() {}\n",
    "\n",
    "  void Initialize(const NewAgentEvent& event) override;\n",
    "  void Update(const NewAgentEvent& event) override;\n",
    "\n",
    "  int num_offsprings_ = 0;\n",
    "  MitochondrialDNA mdna_;\n",
    "};"
   ]
  },
  {
   "cell_type": "markdown",
   "id": "496ee37f",
   "metadata": {},
   "source": [
    "As in the example above, the `Initialize` method is used to set the attributes during new agent events.\n",
    "In this example, we have to set the mitochondrial dna of the child to the value from the mother.\n",
    "The following function definition does exactly that and prints out the value."
   ]
  },
  {
   "cell_type": "code",
   "execution_count": null,
   "id": "b6b5c460",
   "metadata": {},
   "outputs": [],
   "source": [
    "void MyHuman::Initialize(const NewAgentEvent& event) {\n",
    "    Base::Initialize(event);\n",
    "    auto* mother = bdm_static_cast<MyHuman*>(event.existing_agent);\n",
    "    mdna_ = mother->mdna_;\n",
    "    std::cout << \"Initialize child attributes: mitochondrial dna set to \"\n",
    "              << mdna_ << std::endl;\n",
    "}"
   ]
  },
  {
   "cell_type": "markdown",
   "id": "3672e873",
   "metadata": {},
   "source": [
    "The only task left is to update the attributes of the mother. This is done by overriding the `Update` method.\n",
    "Again, do not forget to call the implementation of the base class for correctness.\n",
    "We increment the `num_offsprings_` attribute by the number of newly created agents.\n",
    "Although we could just have incremented the attribute by one, the solution below is generic enough to handle e.g. twin births."
   ]
  },
  {
   "cell_type": "code",
   "execution_count": null,
   "id": "6f9c863b",
   "metadata": {},
   "outputs": [],
   "source": [
    "void MyHuman::Update(const NewAgentEvent& event) {\n",
    "    Base::Update(event);\n",
    "    num_offsprings_ += event.new_agents.size();\n",
    "    std::cout << \"Update mother attributes: num_offsprings incremented to \"\n",
    "              << num_offsprings_ << std::endl;\n",
    "}"
   ]
  },
  {
   "cell_type": "markdown",
   "id": "1c1529d1",
   "metadata": {},
   "source": [
    "Let's create a new `MyHuman`, set its mitochondrial dna to `123` and output the current value of `num_offsprings_`, which we expect to be `0`."
   ]
  },
  {
   "cell_type": "code",
   "execution_count": null,
   "id": "522e3ee8",
   "metadata": {},
   "outputs": [],
   "source": [
    "auto* my_human = new MyHuman();\n",
    "my_human->mdna_ = 123;\n",
    "my_human->num_offsprings_"
   ]
  },
  {
   "cell_type": "markdown",
   "id": "a3b9d99a",
   "metadata": {},
   "source": [
    "Now we can call `GiveBirth` again. We expect the output of two lines.\n",
    "* The first coming from the child informing us about the initialization of its `mdna_` attribute\n",
    "* and the second from the mother telling us about the update of `num_offsprings_`"
   ]
  },
  {
   "cell_type": "code",
   "execution_count": null,
   "id": "e430fb7b",
   "metadata": {},
   "outputs": [],
   "source": [
    "my_human->GiveBirth();"
   ]
  },
  {
   "cell_type": "markdown",
   "id": "a8dbeaae",
   "metadata": {},
   "source": [
    "To double check, let's output the value of `num_offsprings`, which we expect to be 1"
   ]
  },
  {
   "cell_type": "code",
   "execution_count": null,
   "id": "64620dde",
   "metadata": {},
   "outputs": [],
   "source": [
    "my_human->num_offsprings_"
   ]
  }
 ],
 "metadata": {
  "kernelspec": {
   "display_name": "ROOT C++",
   "language": "c++",
   "name": "root"
  },
  "language_info": {
   "codemirror_mode": "text/x-c++src",
   "file_extension": ".C",
   "mimetype": " text/x-c++src",
   "name": "c++"
  }
 },
 "nbformat": 4,
 "nbformat_minor": 5
}
