{
 "cells": [
  {
   "cell_type": "markdown",
   "id": "261afc2b",
   "metadata": {},
   "source": [
    "# Generate random samples from a user-defined distribution\n",
    "\n",
    "**Author: Lukas Breitwieser**<br>\n",
    "In this tutorial we demonstrate how to create a random number generator that draws samples from a user-defined distribution."
   ]
  },
  {
   "cell_type": "markdown",
   "id": "16390b36",
   "metadata": {},
   "source": [
    "Let's start by setting up BioDynaMo notebooks"
   ]
  },
  {
   "cell_type": "code",
   "execution_count": null,
   "id": "e115ba78",
   "metadata": {},
   "outputs": [],
   "source": [
    "%jsroot on\n",
    "gROOT->LoadMacro(\"${BDMSYS}/etc/rootlogon.C\");"
   ]
  },
  {
   "cell_type": "markdown",
   "id": "78266042",
   "metadata": {},
   "source": [
    "We have to create a `TCanvas` object to draw results in this notebook."
   ]
  },
  {
   "cell_type": "code",
   "execution_count": null,
   "id": "9789c3da",
   "metadata": {},
   "outputs": [],
   "source": [
    "TCanvas c(\"\", \"\", 400, 300);\n",
    "c.SetGrid();"
   ]
  },
  {
   "cell_type": "markdown",
   "id": "e3e7f610",
   "metadata": {},
   "source": [
    "Let's assume that we want to generate random numbers from a student-t distribution.<br>\n",
    "Class [`Random`](https://biodynamo.org/api/classbdm_1_1Random.html) does not provide a direct function for that.<br>\n",
    "Therefore, we use the user-defined distribution feature `Random::GetUserDefinedDistRng1D`.<br>\n",
    "Fortunately, ROOT already provides a function called `tdistribution_pdf` that we can use.<br>\n",
    "Have a look at the following two links for more math functions: [TMath](https://root.cern/doc/master/namespaceTMath.html) and [statistical functions](https://root.cern/doc/master/group__StatFunc.html)"
   ]
  },
  {
   "cell_type": "code",
   "execution_count": null,
   "id": "b17664b7",
   "metadata": {},
   "outputs": [],
   "source": [
    "auto* random = simulation.GetRandom();\n",
    "auto distribution = [](const double* x, const double* param) { \n",
    "    return ROOT::Math::tdistribution_pdf(*x, 1.0); \n",
    "};\n",
    "auto udd_rng = random->GetUserDefinedDistRng1D(distribution, {}, -5, 10);"
   ]
  },
  {
   "cell_type": "markdown",
   "id": "b0cbec82",
   "metadata": {},
   "source": [
    "The returned random number generator has a function to draw the distribution."
   ]
  },
  {
   "cell_type": "code",
   "execution_count": null,
   "id": "1705dca2",
   "metadata": {},
   "outputs": [],
   "source": [
    "udd_rng.Draw();\n",
    "c.Draw();"
   ]
  },
  {
   "cell_type": "markdown",
   "id": "e162d7fd",
   "metadata": {},
   "source": [
    "In the next step we want to verify that the created random number generator follows the specified distribution.<br>\n",
    "Therefore, we create a histogram with 100 bins in the range \\[-5, 10\\] and fill it with 10000 samples."
   ]
  },
  {
   "cell_type": "code",
   "execution_count": null,
   "id": "e81c5664",
   "metadata": {},
   "outputs": [],
   "source": [
    "TH1F h(\"\",\"\", 100, -5, 10);\n",
    "for (int i = 0; i < 10000; ++i){\n",
    "    auto rndm_sample = udd_rng.Sample();\n",
    "    h.Fill(rndm_sample);\n",
    "}"
   ]
  },
  {
   "cell_type": "markdown",
   "id": "bb0e6242",
   "metadata": {},
   "source": [
    "Let's draw the result:"
   ]
  },
  {
   "cell_type": "code",
   "execution_count": null,
   "id": "e6b77f1f",
   "metadata": {},
   "outputs": [],
   "source": [
    "h.SetFillColor(kBlue-10);\n",
    "h.Draw();\n",
    "c.Draw();"
   ]
  },
  {
   "cell_type": "markdown",
   "id": "026336df",
   "metadata": {},
   "source": [
    "As we can see from the last figure the samples from our random number generator fit our distribution."
   ]
  }
 ],
 "metadata": {
  "kernelspec": {
   "display_name": "ROOT C++",
   "language": "c++",
   "name": "root"
  },
  "language_info": {
   "codemirror_mode": "text/x-c++src",
   "file_extension": ".C",
   "mimetype": " text/x-c++src",
   "name": "c++"
  }
 },
 "nbformat": 4,
 "nbformat_minor": 5
}
