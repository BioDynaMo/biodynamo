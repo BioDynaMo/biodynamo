{
 "cells": [
  {
   "cell_type": "markdown",
   "id": "d08f4bda",
   "metadata": {},
   "source": [
    "# Create agents in 3D space\n",
    "\n",
    "**Author: Lukas Breitwieser**<br>\n",
    "In this tutorial we want to demonstrate different functions to initialize agents in space."
   ]
  },
  {
   "cell_type": "markdown",
   "id": "afc9e8fc",
   "metadata": {},
   "source": [
    "Let's start by setting up BioDynaMo notebooks."
   ]
  },
  {
   "cell_type": "code",
   "execution_count": null,
   "id": "5df86ed1",
   "metadata": {},
   "outputs": [],
   "source": [
    "%jsroot on\n",
    "gROOT->LoadMacro(\"${BDMSYS}/etc/rootlogon.C\");"
   ]
  },
  {
   "cell_type": "markdown",
   "id": "290f8c07",
   "metadata": {},
   "source": [
    "We use `SphericalAgent`s with $diameter = 10$ for all consecutive examples."
   ]
  },
  {
   "cell_type": "code",
   "execution_count": null,
   "id": "5fcbd149",
   "metadata": {},
   "outputs": [],
   "source": [
    "auto create_agent = [](const Double3& position) {\n",
    "  auto* agent = new SphericalAgent(position);\n",
    "  agent->SetDiameter(10);\n",
    "  return agent;\n",
    "};"
   ]
  },
  {
   "cell_type": "markdown",
   "id": "3c4a8bec",
   "metadata": {},
   "source": [
    "We define the number of agents that should be created for functions that require this parameter."
   ]
  },
  {
   "cell_type": "code",
   "execution_count": null,
   "id": "013e187f",
   "metadata": {},
   "outputs": [],
   "source": [
    "uint64_t num_agents = 300;"
   ]
  },
  {
   "cell_type": "markdown",
   "id": "c1253a31",
   "metadata": {},
   "source": [
    "We define two helper functions that reset the simulation to the empty state and one to visualize the result."
   ]
  },
  {
   "cell_type": "code",
   "execution_count": null,
   "id": "cdd9589c",
   "metadata": {},
   "outputs": [],
   "source": [
    "void Clear() {\n",
    "  simulation.GetResourceManager()->ClearAgents();\n",
    "}"
   ]
  },
  {
   "cell_type": "code",
   "execution_count": null,
   "id": "48fb01d3",
   "metadata": {},
   "outputs": [],
   "source": [
    "void Vis() {\n",
    "  simulation.GetScheduler()->FinalizeInitialization();\n",
    "  VisualizeInNotebook();\n",
    "}"
   ]
  },
  {
   "cell_type": "markdown",
   "id": "0f2c9fa2",
   "metadata": {},
   "source": [
    "### Create agents randomly inside a 3D cube \n",
    "Cube: $x_{min} = y_{min} = z_{min} = -200$ and $x_{max} = y_{max} = z_{max} = 200$<br>\n",
    "By default a uniform random number distribution is used."
   ]
  },
  {
   "cell_type": "code",
   "execution_count": null,
   "id": "4602b092",
   "metadata": {},
   "outputs": [],
   "source": [
    "Clear();\n",
    "ModelInitializer::CreateAgentsRandom(-200, 200, num_agents, create_agent);\n",
    "Vis();"
   ]
  },
  {
   "cell_type": "markdown",
   "id": "5b0ff08f",
   "metadata": {},
   "source": [
    "<div style=\"page-break-after: always;\"></div>"
   ]
  },
  {
   "cell_type": "markdown",
   "id": "be46b17d",
   "metadata": {},
   "source": [
    "### Create agents randomly inside a 3D cube using a gaussian distribution\n",
    "Cube: $x_{min} = y_{min} = z_{min} = -200$ and $x_{max} = y_{max} = z_{max} = 200$<br>\n",
    "Gaussian: $\\mu = 0$, $\\sigma = 20$<br>\n",
    "Note the extra parameter $rng$ passed to `CreateAgentsRandom`"
   ]
  },
  {
   "cell_type": "code",
   "execution_count": null,
   "id": "b47d15fe",
   "metadata": {},
   "outputs": [],
   "source": [
    "Clear();\n",
    "auto rng = simulation.GetRandom()->GetGausRng(0, 20);\n",
    "ModelInitializer::CreateAgentsRandom(-200, 200, num_agents, create_agent, &rng);\n",
    "Vis();"
   ]
  },
  {
   "cell_type": "markdown",
   "id": "bffeec23",
   "metadata": {},
   "source": [
    "### Create agents randomly inside a 3D cube using an exponential distribution\n",
    "Cube: $x_{min} = y_{min} = z_{min} = -200$ and $x_{max} = y_{max} = z_{max} = 200$<br>\n",
    "Exponential: $\\tau = 100$<br>\n",
    "Note the extra parameter $rng$ passed to `CreateAgentsRandom`"
   ]
  },
  {
   "cell_type": "code",
   "execution_count": null,
   "id": "3b00519a",
   "metadata": {},
   "outputs": [],
   "source": [
    "Clear();\n",
    "auto rng = simulation.GetRandom()->GetExpRng(100);\n",
    "ModelInitializer::CreateAgentsRandom(-200, 200, num_agents, create_agent, &rng);\n",
    "Vis();"
   ]
  },
  {
   "cell_type": "markdown",
   "id": "da3fcfc5",
   "metadata": {},
   "source": [
    "### Create agents randomly inside a 3D cube using a 3D gaussian distribution\n",
    "Cube: $x_{min} = y_{min} = z_{min} = -200$ and $x_{max} = y_{max} = z_{max} = 200$<br>\n",
    "3D gaussian: $\\mu_x = \\mu_y = \\mu_z = 0$, $\\sigma_x = 100$, $\\sigma_y = 50$, $\\sigma_z = 20$<br>\n",
    "The gaussian distribution we used earlier in this tutorial used the same parameters $\\mu$ and $\\sigma$ for all three dimentions. In this example we want to use different values for $\\sigma$ in each dimension. Therefore we have to use a 3D guassian.\n",
    "Since BioDynaMo does not have a predefined 3D gaussian, we have to define the function ourselves."
   ]
  },
  {
   "cell_type": "code",
   "execution_count": null,
   "id": "67e5df83",
   "metadata": {},
   "outputs": [],
   "source": [
    "Clear();\n",
    "auto gaus3d = [](const double* x, const double* params) {\n",
    "    auto mx = params[0];\n",
    "    auto my = params[2];\n",
    "    auto mz = params[4];\n",
    "    auto sx = params[1];\n",
    "    auto sy = params[3];\n",
    "    auto sz = params[5];\n",
    "    auto ret = (1.0/(sx * sy * sz *std::pow(2.0*Math::kPi, 3.0/2.0))) * \n",
    "        std::exp(-std::pow(x[0] - mx, 2.0)/std::pow(sx, 2.0) - \n",
    "                  std::pow(x[1] - my, 2.0)/std::pow(sy, 2.0) - \n",
    "                  std::pow(x[2] - mz, 2.0)/std::pow(sz, 2.0));\n",
    "    return ret;\n",
    "};\n",
    "auto* random = simulation.GetRandom();\n",
    "auto rng = random->GetUserDefinedDistRng3D(gaus3d, {0, 100, 0, 50, 0, 20}, \n",
    "                                           -200, 200, -200, 200, -200, 200);\n",
    "ModelInitializer::CreateAgentsRandom(-200, 200, num_agents, create_agent, &rng);\n",
    "Vis();"
   ]
  },
  {
   "cell_type": "markdown",
   "id": "2bfcf14b",
   "metadata": {},
   "source": [
    "### Create agents randomly on a sphere\n",
    "Center of the sphere ${0, 0, 0}$<br>\n",
    "Radius: 100"
   ]
  },
  {
   "cell_type": "code",
   "execution_count": null,
   "id": "8ef1a886",
   "metadata": {},
   "outputs": [],
   "source": [
    "Clear();\n",
    "ModelInitializer::CreateAgentsOnSphereRndm({0, 0, 0}, 100, num_agents, \n",
    "                                           create_agent);\n",
    "Vis();"
   ]
  },
  {
   "cell_type": "markdown",
   "id": "4498618b",
   "metadata": {},
   "source": [
    "### Create 3D grid of agents\n",
    "Number of agents per dimension: 10<br>\n",
    "Space between agents: 20<br>\n",
    "With this parameters `Grid3D` will create 1000 agents."
   ]
  },
  {
   "cell_type": "code",
   "execution_count": null,
   "id": "f3d6c1a0",
   "metadata": {},
   "outputs": [],
   "source": [
    "Clear();\n",
    "uint64_t agents_per_dim = 10;\n",
    "double space_between_agents = 20;\n",
    "ModelInitializer::Grid3D(10, 20, create_agent);\n",
    "Vis();"
   ]
  },
  {
   "cell_type": "markdown",
   "id": "55175666",
   "metadata": {},
   "source": [
    "### Create agents on a surface\n",
    "\n",
    "We create agents between $x_{min} = y_{min} = -100$ and $x_{max} = y_{max} = 100$ with spacing of 10 beween agents.\n",
    "The $z$-coordinate is defined by the function $f(x, y) = 10 * sin(x/20) + 10 * sin(y/20)$<br>"
   ]
  },
  {
   "cell_type": "code",
   "execution_count": null,
   "id": "956872a1",
   "metadata": {},
   "outputs": [],
   "source": [
    "Clear();\n",
    "auto f = [](const double* x, const double* params) {\n",
    "    return 10 * std::sin(x[0] / 20.) + 10 * std::sin(x[1] / 20.0);\n",
    "};\n",
    "ModelInitializer::CreateAgentsOnSurface(f, {}, -100, 100, 10, -100, 100, 10, \n",
    "                                        create_agent);\n",
    "Vis();"
   ]
  },
  {
   "cell_type": "markdown",
   "id": "343cbc87",
   "metadata": {},
   "source": [
    "### Create agents on a surface randomly\n",
    "\n",
    "We use the same parameters as in the example before, but this time we want to place agents randomly on this surface.\n",
    "Therefore, $x$, and $y$ coordinate are sampled from a uniform distribution between $x_{min} = y_{min} = -100$ and $x_{max} = y_{max} = 100$."
   ]
  },
  {
   "cell_type": "code",
   "execution_count": null,
   "id": "97d760cf",
   "metadata": {},
   "outputs": [],
   "source": [
    "Clear();\n",
    "ModelInitializer::CreateAgentsOnSurfaceRndm(f, {}, -100, 100, -100, 100, num_agents, \n",
    "                                            create_agent);\n",
    "Vis();"
   ]
  }
 ],
 "metadata": {
  "ipub": {
   "titlepage": {
    "author": "Lukas Breitwieser",
    "email": "lukas.breitwieser@cern.ch",
    "subtitle": "Sub-Title",
    "tagline": "A tagline for the report.",
    "title": "Main-Title"
   }
  },
  "kernelspec": {
   "display_name": "ROOT C++",
   "language": "c++",
   "name": "root"
  },
  "language_info": {
   "codemirror_mode": "text/x-c++src",
   "file_extension": ".C",
   "mimetype": " text/x-c++src",
   "name": "c++"
  }
 },
 "nbformat": 4,
 "nbformat_minor": 5
}
