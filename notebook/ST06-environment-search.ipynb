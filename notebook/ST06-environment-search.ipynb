{
 "cells": [
  {
   "cell_type": "markdown",
   "id": "35b1e478",
   "metadata": {},
   "source": [
    "# Environment search\n",
    "\n",
    "**Author: Lukas Breitwieser**<br>\n",
    "In this tutorial we will show how to execute a function for each neighbor of an agent."
   ]
  },
  {
   "cell_type": "markdown",
   "id": "2082b703",
   "metadata": {},
   "source": [
    "Let's start by setting up BioDynaMo notebooks."
   ]
  },
  {
   "cell_type": "code",
   "execution_count": null,
   "id": "11ca5e41",
   "metadata": {},
   "outputs": [],
   "source": [
    "%jsroot on\n",
    "gROOT->LoadMacro(\"${BDMSYS}/etc/rootlogon.C\");"
   ]
  },
  {
   "cell_type": "markdown",
   "id": "4c86850d",
   "metadata": {},
   "source": [
    "We create three agents in a row along the x-axis with identical y and z values."
   ]
  },
  {
   "cell_type": "code",
   "execution_count": null,
   "id": "2401012a",
   "metadata": {},
   "outputs": [],
   "source": [
    "auto* ctxt = simulation.GetExecutionContext();\n",
    "\n",
    "auto* a0 = new SphericalAgent({10, 0, 0});\n",
    "auto* a1 = new SphericalAgent({20, 0, 0});\n",
    "auto* a2 = new SphericalAgent({30, 0, 0});\n",
    "\n",
    "a0->SetDiameter(11);\n",
    "a1->SetDiameter(11);\n",
    "a2->SetDiameter(11);\n",
    "\n",
    "ctxt->AddAgent(a0);\n",
    "ctxt->AddAgent(a1);\n",
    "ctxt->AddAgent(a2);"
   ]
  },
  {
   "cell_type": "markdown",
   "id": "3ab3a953",
   "metadata": {},
   "source": [
    "We finalize the initialization and update the environment so it can be used later.\n",
    "Please not that this is usually done automatically inside `Scheduler::Simulate`."
   ]
  },
  {
   "cell_type": "code",
   "execution_count": null,
   "id": "8f0d4544",
   "metadata": {},
   "outputs": [],
   "source": [
    "simulation.GetScheduler()->FinalizeInitialization();\n",
    "simulation.GetEnvironment()->Update();\n",
    "VisualizeInNotebook();"
   ]
  },
  {
   "cell_type": "markdown",
   "id": "282ea396",
   "metadata": {},
   "source": [
    "Let's define the function that we want to execute for each neighbor. It prints the unique id of the neighbor and its distance from the querying agent."
   ]
  },
  {
   "cell_type": "code",
   "execution_count": null,
   "id": "a4da75e5",
   "metadata": {},
   "outputs": [],
   "source": [
    "auto print_id_distance = L2F([](Agent* a, double squared_distance) {\n",
    "  std::cout << \"Neighbor \" << a->GetUid() << \"  with distance: \" \n",
    "            << std::sqrt(squared_distance) << std::endl;\n",
    "});"
   ]
  },
  {
   "cell_type": "markdown",
   "id": "62da5578",
   "metadata": {},
   "source": [
    "The agents have the following ids (in order of increasing x-value)\n",
    "0-0, 1-0, 2-0\n",
    "\n",
    "We start by executing print_id_distance for the first agent. We ask for all neighbors within distance 101.\n",
    "Therefore the function should be executed for the agent in the middle with id 1-0"
   ]
  },
  {
   "cell_type": "code",
   "execution_count": null,
   "id": "eb14d94e",
   "metadata": {},
   "outputs": [],
   "source": [
    "ctxt->ForEachNeighbor(print_id_distance, *a0, 101);"
   ]
  },
  {
   "cell_type": "markdown",
   "id": "6e8096bb",
   "metadata": {},
   "source": [
    "Let's repeat the experiment for the middle agent. We expect to see two lines for the left and right neighbor."
   ]
  },
  {
   "cell_type": "code",
   "execution_count": null,
   "id": "22ba95a1",
   "metadata": {},
   "outputs": [],
   "source": [
    "ctxt->ForEachNeighbor(print_id_distance, *a1, 101);"
   ]
  },
  {
   "cell_type": "markdown",
   "id": "10639340",
   "metadata": {},
   "source": [
    "Lastly, we want to execute the function `print_id_distance` for all neighbors of the righ-most agent. We expect to see one line printing the middle agent as neighbor (1-0)"
   ]
  },
  {
   "cell_type": "code",
   "execution_count": null,
   "id": "f8e1ec99",
   "metadata": {},
   "outputs": [],
   "source": [
    "ctxt->ForEachNeighbor(print_id_distance, *a2, 101);"
   ]
  }
 ],
 "metadata": {
  "kernelspec": {
   "display_name": "ROOT C++",
   "language": "c++",
   "name": "root"
  },
  "language_info": {
   "codemirror_mode": "text/x-c++src",
   "file_extension": ".C",
   "mimetype": " text/x-c++src",
   "name": "c++"
  }
 },
 "nbformat": 4,
 "nbformat_minor": 5
}
