{
 "cells": [
  {
   "cell_type": "markdown",
   "id": "bb375e54",
   "metadata": {},
   "source": [
    "# Multi-scale simulations\n",
    "\n",
    "**Author: Lukas Breitwieser**<br>\n",
    "In this tutorial we will show how BioDynaMo support multi-scale simulations. \n",
    "Multi-scale simulation means that simulated processes happen in different time-scales---e.g. substance diffusion and neurite growth.\n",
    "\n",
    "Let's start by setting up BioDynaMo notebooks."
   ]
  },
  {
   "cell_type": "code",
   "execution_count": null,
   "id": "3654007a",
   "metadata": {},
   "outputs": [],
   "source": [
    "%jsroot on\n",
    "gROOT->LoadMacro(\"${BDMSYS}/etc/rootlogon.C\");"
   ]
  },
  {
   "cell_type": "markdown",
   "id": "7b63e9cb",
   "metadata": {},
   "source": [
    "We define a new [standalone operation](https://biodynamo.org/docs/userguide/operation/) which only task is to print the current simulation time step if it is executed."
   ]
  },
  {
   "cell_type": "code",
   "execution_count": null,
   "id": "f336788b",
   "metadata": {},
   "outputs": [],
   "source": [
    "struct TestOp : public StandaloneOperationImpl {\n",
    "  BDM_OP_HEADER(TestOp);\n",
    "  void operator()() override {\n",
    "    auto* scheduler = Simulation::GetActive()->GetScheduler();\n",
    "    auto* param = Simulation::GetActive()->GetParam();\n",
    "    std::cout << \"Processing iteration \" \n",
    "              << scheduler->GetSimulatedSteps() \n",
    "              << \" simulation time \"\n",
    "              << scheduler->GetSimulatedSteps() * param->simulation_time_step\n",
    "              << std::endl; \n",
    "  }\n",
    "};\n",
    "OperationRegistry::GetInstance()->AddOperationImpl(\n",
    "    \"test_op\", OpComputeTarget::kCpu, new TestOp());"
   ]
  },
  {
   "cell_type": "code",
   "execution_count": null,
   "id": "b6187081",
   "metadata": {},
   "outputs": [],
   "source": [
    "auto set_param = [](Param * param) {\n",
    "    param->simulation_time_step = 2;\n",
    "};\n",
    "Simulation simulation(\"my-simulation\", set_param);"
   ]
  },
  {
   "cell_type": "markdown",
   "id": "ab605e19",
   "metadata": {},
   "source": [
    "Our initial model consists of one agent at origin."
   ]
  },
  {
   "cell_type": "code",
   "execution_count": null,
   "id": "8bc5851d",
   "metadata": {},
   "outputs": [],
   "source": [
    "auto* ctxt = simulation.GetExecutionContext();\n",
    "ctxt->AddAgent(new SphericalAgent());"
   ]
  },
  {
   "cell_type": "markdown",
   "id": "5b395ab8",
   "metadata": {},
   "source": [
    "Let's create a new instance of our class `TestOp` and add it to the scheduler."
   ]
  },
  {
   "cell_type": "code",
   "execution_count": null,
   "id": "d74d3d77",
   "metadata": {},
   "outputs": [],
   "source": [
    "auto* op1 = NewOperation(\"test_op\");\n",
    "auto* scheduler = simulation.GetScheduler();\n",
    "scheduler->ScheduleOp(op1);"
   ]
  },
  {
   "cell_type": "markdown",
   "id": "72100a54",
   "metadata": {},
   "source": [
    "Let's simulate 9 steps. We expect that `op1` will be called each time step."
   ]
  },
  {
   "cell_type": "code",
   "execution_count": null,
   "id": "fb044c02",
   "metadata": {},
   "outputs": [],
   "source": [
    "scheduler->Simulate(9);"
   ]
  },
  {
   "cell_type": "markdown",
   "id": "1e9571e0",
   "metadata": {},
   "source": [
    "Operations have a frequency attribute which specifies how often it will be executed.\n",
    "An operation with frequency one will be executed at every time step; an operation with frequency two every second, and so on."
   ]
  },
  {
   "cell_type": "code",
   "execution_count": null,
   "id": "71568cbb",
   "metadata": {},
   "outputs": [],
   "source": [
    "op1->frequency_= 3;\n",
    "scheduler->Simulate(9);"
   ]
  },
  {
   "cell_type": "markdown",
   "id": "b55860a3",
   "metadata": {},
   "source": [
    "This functionality can be used to set the frequency of different processes in an agent-based model."
   ]
  }
 ],
 "metadata": {
  "kernelspec": {
   "display_name": "ROOT C++",
   "language": "c++",
   "name": "root"
  },
  "language_info": {
   "codemirror_mode": "text/x-c++src",
   "file_extension": ".C",
   "mimetype": " text/x-c++src",
   "name": "c++"
  }
 },
 "nbformat": 4,
 "nbformat_minor": 5
}
