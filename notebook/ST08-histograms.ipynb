{
 "cells": [
  {
   "cell_type": "markdown",
   "id": "59a444f2",
   "metadata": {},
   "source": [
    "# Create a histogram of agent attributes\n",
    "\n",
    "**Author: Lukas Breitwieser**<br>\n",
    "In this tutorial we will show how to create a histogram of all agent diameters in the simulation and fit a function to the data.\n",
    "\n",
    "Let's start by setting up BioDynaMo notebooks."
   ]
  },
  {
   "cell_type": "code",
   "execution_count": null,
   "id": "96f8df86",
   "metadata": {},
   "outputs": [],
   "source": [
    "%jsroot on\n",
    "gROOT->LoadMacro(\"${BDMSYS}/etc/rootlogon.C\");"
   ]
  },
  {
   "cell_type": "markdown",
   "id": "4826bcd8",
   "metadata": {},
   "source": [
    "We want to define a function that creates a cell at a certain position with diameters drawn from a gaussian distribution with $\\mu=20$ and $\\sigma=5$.\n",
    "The smallest diameter should be larger then $2.0$."
   ]
  },
  {
   "cell_type": "code",
   "execution_count": null,
   "id": "55d54a85",
   "metadata": {},
   "outputs": [],
   "source": [
    "simulation.GetResourceManager()->ClearAgents();\n",
    "auto rng = simulation.GetRandom()->GetGausRng(20, 5);\n",
    "auto create_cell = [&](const Double3& position) {\n",
    "  Cell* cell = new Cell(position);\n",
    "  double diameter = std::max(2.0, rng.Sample());\n",
    "  cell->SetDiameter(diameter);\n",
    "  return cell;\n",
    "};"
   ]
  },
  {
   "cell_type": "markdown",
   "id": "b75a38d5",
   "metadata": {},
   "source": [
    "Now that we defined `create_cell` we can use it to create 400 cells on a plane with $z = 0$, $xmin = ymin = -200$, $xmax = ymax = 200$, and spacing = 20 in both dimensions."
   ]
  },
  {
   "cell_type": "code",
   "execution_count": null,
   "id": "16dfac9d",
   "metadata": {},
   "outputs": [],
   "source": [
    "auto f = [](const double* x, const double* params) { return 0.0; };\n",
    "ModelInitializer::CreateAgentsOnSurface(f, {}, -200, 200, 20, -200, 200, 20, \n",
    "                                        create_cell);\n",
    "simulation.GetScheduler()->FinalizeInitialization();\n",
    "VisualizeInNotebook(300, 300);"
   ]
  },
  {
   "cell_type": "markdown",
   "id": "e39ad15d",
   "metadata": {},
   "source": [
    "The next step is to create a histogram object with 100 bins in the interval [2, 40].<br>\n",
    "The second line creates a function which fills the histogram with the diameter of the given agent.<br>\n",
    "The third line calls the function `fill` for each agent, thus adding all diameters to the histogram."
   ]
  },
  {
   "cell_type": "code",
   "execution_count": null,
   "id": "1b668a6f",
   "metadata": {},
   "outputs": [],
   "source": [
    "TH1F h(\"myHisto\",\"Agent Diameter Histogram;Diameter;Count\", 100, 2, 40);\n",
    "auto fill = L2F([&](Agent* a, AgentHandle){ h.Fill(a->GetDiameter()); });\n",
    "simulation.GetResourceManager()->ForEachAgent(fill);"
   ]
  },
  {
   "cell_type": "markdown",
   "id": "f72003ca",
   "metadata": {},
   "source": [
    "Let's draw the final histogram.<br>\n",
    "Before we have to create a `TCanvas` object in order to display the result in this notebook.<br>\n",
    "We also modify the default color and create a grid."
   ]
  },
  {
   "cell_type": "code",
   "execution_count": null,
   "id": "922bdaff",
   "metadata": {},
   "outputs": [],
   "source": [
    "TCanvas c(\"\", \"\", 400, 300);\n",
    "h.SetFillColor(kBlue - 10);\n",
    "c.SetGrid();\n",
    "h.Draw();\n",
    "c.Draw();"
   ]
  },
  {
   "cell_type": "markdown",
   "id": "66975011",
   "metadata": {},
   "source": [
    "Finally, we can try to fit a function to the data in the histogram.<br>\n",
    "Since we drew samples from a gaussian random number generator when we created our cells, we expect that a gaussian will fit our data."
   ]
  },
  {
   "cell_type": "code",
   "execution_count": null,
   "id": "a5692df4",
   "metadata": {},
   "outputs": [],
   "source": [
    "h.Fit(\"gaus\", \"S\");\n",
    "h.Draw();\n",
    "c.Draw();"
   ]
  }
 ],
 "metadata": {
  "kernelspec": {
   "display_name": "ROOT C++",
   "language": "c++",
   "name": "root"
  },
  "language_info": {
   "codemirror_mode": "text/x-c++src",
   "file_extension": ".C",
   "mimetype": " text/x-c++src",
   "name": "c++"
  }
 },
 "nbformat": 4,
 "nbformat_minor": 5
}
