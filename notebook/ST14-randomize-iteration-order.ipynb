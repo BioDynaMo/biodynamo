{
 "cells": [
  {
   "cell_type": "markdown",
   "id": "d82aa08c",
   "metadata": {},
   "source": [
    "# Randomize iteration order\n",
    "\n",
    "**Author: Lukas Breitwieser**<br>\n",
    "In this tutorial we show how to randomize the order that BioDynaMo uses in each iteration to process the agents.\n",
    "\n",
    "Let's start by setting up BioDynaMo notebooks."
   ]
  },
  {
   "cell_type": "code",
   "execution_count": null,
   "id": "e78c1565",
   "metadata": {},
   "outputs": [],
   "source": [
    "%jsroot on\n",
    "gROOT->LoadMacro(\"${BDMSYS}/etc/rootlogon.C\");"
   ]
  },
  {
   "cell_type": "markdown",
   "id": "73bfe0f7",
   "metadata": {},
   "source": [
    "Let's create two helper functions:\n",
    "* `AddAgents` to add four agents to the simulation\n",
    "* `print_uid` which prints the uid of the given agent"
   ]
  },
  {
   "cell_type": "code",
   "execution_count": null,
   "id": "d6280097",
   "metadata": {},
   "outputs": [],
   "source": [
    "void AddAgents(ResourceManager* rm) {\n",
    "    for (int i = 0; i < 4; ++i) {\n",
    "        rm->AddAgent(new SphericalAgent());\n",
    "    }\n",
    "}\n",
    "auto print_uid = [](Agent* a) { \n",
    "  std::cout << a->GetUid() << std::endl;\n",
    "};"
   ]
  },
  {
   "cell_type": "markdown",
   "id": "7124c420",
   "metadata": {},
   "source": [
    "We define an experiment which \n",
    "1. takes a simulation object as input\n",
    "2. adds four agents\n",
    "3. calls `print_uid` for each agent\n",
    "4. print a seperator so we can distinguish the output of the two different time steps\n",
    "4. advances to the next time step\n",
    "5. calls `print_uid` for each agent again"
   ]
  },
  {
   "cell_type": "code",
   "execution_count": null,
   "id": "e15b1ee4",
   "metadata": {},
   "outputs": [],
   "source": [
    "void Experiment(Simulation* sim) {\n",
    "    auto* rm = sim->GetResourceManager();\n",
    "    AddAgents(rm);\n",
    "    \n",
    "    rm->ForEachAgent(print_uid);\n",
    "    rm->EndOfIteration();\n",
    "    std::cout << \"-----------------\" << std::endl;\n",
    "    rm->ForEachAgent(print_uid);\n",
    "}"
   ]
  },
  {
   "cell_type": "markdown",
   "id": "1ac0256b",
   "metadata": {},
   "source": [
    "The default behavior of BioDynaMo is to iterate over the agents in the order they were added (not taking multi-threading and load balancing into account). Therefore, we expect to see the same order twice."
   ]
  },
  {
   "cell_type": "code",
   "execution_count": null,
   "id": "a50ec22e",
   "metadata": {},
   "outputs": [],
   "source": [
    "Experiment(&simulation)"
   ]
  },
  {
   "cell_type": "markdown",
   "id": "77e55b34",
   "metadata": {},
   "source": [
    "BioDynaMo also provides a wrapper called `RandomizedRm`, which, as the name suggests, randomizes the iteration order after each iteration. It just takes two lines to add this functionality to the simulation."
   ]
  },
  {
   "cell_type": "code",
   "execution_count": null,
   "id": "08de3470",
   "metadata": {},
   "outputs": [],
   "source": [
    "Simulation simulation(\"my-sim\");\n",
    "auto* rand_rm = new RandomizedRm<ResourceManager>();\n",
    "simulation.SetResourceManager(rand_rm);"
   ]
  },
  {
   "cell_type": "markdown",
   "id": "619abd2d",
   "metadata": {},
   "source": [
    "Let's run our experiment again. This time with the simulation which has a randomized resource manager. We expect two different orders."
   ]
  },
  {
   "cell_type": "code",
   "execution_count": null,
   "id": "710d474f",
   "metadata": {},
   "outputs": [],
   "source": [
    "Experiment(&simulation)"
   ]
  }
 ],
 "metadata": {
  "kernelspec": {
   "display_name": "ROOT C++",
   "language": "c++",
   "name": "root"
  },
  "language_info": {
   "codemirror_mode": "text/x-c++src",
   "file_extension": ".C",
   "mimetype": " text/x-c++src",
   "name": "c++"
  }
 },
 "nbformat": 4,
 "nbformat_minor": 5
}
