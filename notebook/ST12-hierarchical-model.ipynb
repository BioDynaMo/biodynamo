{
 "cells": [
  {
   "cell_type": "markdown",
   "id": "cf421e00",
   "metadata": {},
   "source": [
    "# Hierarchical model support\n",
    "\n",
    "**Author: Lukas Breitwieser**<br>\n",
    "Some models require to update certain agents before others.\n",
    "In this tutorial we show how to execute operations first for large agents and afterwards for small ones.\n",
    "Lastly, we demonstrate how to run a different set of operations for large and for small agents.\n",
    "\n",
    "Let's start by setting up BioDynaMo notebooks."
   ]
  },
  {
   "cell_type": "code",
   "execution_count": null,
   "id": "3654007a",
   "metadata": {},
   "outputs": [],
   "source": [
    "%jsroot on\n",
    "gROOT->LoadMacro(\"${BDMSYS}/etc/rootlogon.C\");"
   ]
  },
  {
   "cell_type": "markdown",
   "id": "4ae01b7f",
   "metadata": {},
   "source": [
    "To make this demo easier to understand, we turn off multi-threading and load balancing. "
   ]
  },
  {
   "cell_type": "code",
   "execution_count": null,
   "id": "78277bc9",
   "metadata": {},
   "outputs": [],
   "source": [
    "omp_set_num_threads(1);\n",
    "ThreadInfo::GetInstance()->Renew();\n",
    "auto* scheduler = simulation.GetScheduler();\n",
    "scheduler->UnscheduleOp(scheduler->GetOps(\"load balancing\")[0]);"
   ]
  },
  {
   "cell_type": "markdown",
   "id": "2c6850fe",
   "metadata": {},
   "source": [
    "We create a new agent operation which prints out its name and the diameter of the agent it is processing"
   ]
  },
  {
   "cell_type": "code",
   "execution_count": null,
   "id": "f336788b",
   "metadata": {},
   "outputs": [],
   "source": [
    "struct TestOp : public AgentOperationImpl {\n",
    "  BDM_OP_HEADER(TestOp);\n",
    "  void operator()(Agent* agent) override {\n",
    "    std::cout << name << \" processing agent with diameter \" \n",
    "              << agent->GetDiameter() << endl; \n",
    "  }\n",
    "  std::string name = \"\";\n",
    "};\n",
    "OperationRegistry::GetInstance()->AddOperationImpl(\n",
    "    \"test_op\", OpComputeTarget::kCpu, new TestOp());"
   ]
  },
  {
   "cell_type": "markdown",
   "id": "79e02ac2",
   "metadata": {},
   "source": [
    "We create four agents with diameter `{20, 10, 20, 10}`"
   ]
  },
  {
   "cell_type": "code",
   "execution_count": null,
   "id": "8bc5851d",
   "metadata": {},
   "outputs": [],
   "source": [
    "auto* ctxt = simulation.GetExecutionContext();\n",
    "for (int i = 0; i < 4; ++i) {\n",
    "    double diameter = i % 2 == 0 ? 20 : 10;\n",
    "    ctxt->AddAgent(new SphericalAgent(diameter));\n",
    "}"
   ]
  },
  {
   "cell_type": "markdown",
   "id": "01f04ed6",
   "metadata": {},
   "source": [
    "We add the new operation to the simulation"
   ]
  },
  {
   "cell_type": "code",
   "execution_count": null,
   "id": "d74d3d77",
   "metadata": {},
   "outputs": [],
   "source": [
    "auto* op1 = NewOperation(\"test_op\");\n",
    "scheduler->ScheduleOp(op1);"
   ]
  },
  {
   "cell_type": "markdown",
   "id": "4aca92f2",
   "metadata": {},
   "source": [
    "Let's simulate one time step and observe the default behavior of BioDynaMo.\n",
    "We expect that the agents are processed in the order they were added (`{20, 10, 20, 10}`)"
   ]
  },
  {
   "cell_type": "code",
   "execution_count": null,
   "id": "fb044c02",
   "metadata": {},
   "outputs": [],
   "source": [
    "scheduler->Simulate(1);"
   ]
  },
  {
   "cell_type": "markdown",
   "id": "45ad99d6",
   "metadata": {},
   "source": [
    "Now we want to define the group of large and small agents and tell BioDynaMo that large agents should be processed before small ones. \n",
    "\n",
    "This can be done with the following three lines of code."
   ]
  },
  {
   "cell_type": "code",
   "execution_count": null,
   "id": "ad4b226b",
   "metadata": {},
   "outputs": [],
   "source": [
    "auto small_filter = L2F([](Agent* a) { return a->GetDiameter() < 15; });\n",
    "auto large_filter = L2F([](Agent* a) { return a->GetDiameter() >= 15; });\n",
    "scheduler->SetAgentFilters({&large_filter, &small_filter});"
   ]
  },
  {
   "cell_type": "markdown",
   "id": "25366858",
   "metadata": {},
   "source": [
    "Let's observe if the output has changed. We expect to see first the large agents `{20, 20}`,  followed by the small ones `{10, 10}`."
   ]
  },
  {
   "cell_type": "code",
   "execution_count": null,
   "id": "d0858e54",
   "metadata": {},
   "outputs": [],
   "source": [
    "scheduler->Simulate(1);"
   ]
  },
  {
   "cell_type": "markdown",
   "id": "72e2980e",
   "metadata": {},
   "source": [
    "Let's create two more instances of our `TestOp`.\n",
    "We define that:\n",
    "* `op1` should be run for all agents (large and small).\n",
    "* `op2` only for small agents\n",
    "* `op3` only for large agents"
   ]
  },
  {
   "cell_type": "code",
   "execution_count": null,
   "id": "f6761123",
   "metadata": {},
   "outputs": [],
   "source": [
    "auto* op2 = NewOperation(\"test_op\");\n",
    "auto* op3 = NewOperation(\"test_op\");\n",
    "\n",
    "op1->GetImplementation<TestOp>()->name = \"OpAll      \";\n",
    "op2->GetImplementation<TestOp>()->name = \"OpOnlySmall\";\n",
    "op3->GetImplementation<TestOp>()->name = \"OpOnlyLarge\";\n",
    "\n",
    "op2->SetExcludeFilters({&large_filter});\n",
    "op3->SetExcludeFilters({&small_filter});\n",
    "\n",
    "scheduler->ScheduleOp(op2);\n",
    "scheduler->ScheduleOp(op3);"
   ]
  },
  {
   "cell_type": "markdown",
   "id": "73aeefb9",
   "metadata": {},
   "source": [
    "Now we want to execute another time step with the updated model. We expect that for each agent two operations will be executed. \n",
    "\n",
    "For large agents `OpAll` and `OpOnlyLarge` and for small agents `OpAll` and `OpOnlySmall`.\n",
    "As before, we expect that first all large agents are executed, followed by all small agents."
   ]
  },
  {
   "cell_type": "code",
   "execution_count": null,
   "id": "b13e0354",
   "metadata": {},
   "outputs": [],
   "source": [
    "scheduler->Simulate(1);"
   ]
  }
 ],
 "metadata": {
  "kernelspec": {
   "display_name": "ROOT C++",
   "language": "c++",
   "name": "root"
  },
  "language_info": {
   "codemirror_mode": "text/x-c++src",
   "file_extension": ".C",
   "mimetype": " text/x-c++src",
   "name": "c++"
  }
 },
 "nbformat": 4,
 "nbformat_minor": 5
}
