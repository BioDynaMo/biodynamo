{
 "cells": [
  {
   "cell_type": "markdown",
   "id": "71c33bc3",
   "metadata": {},
   "source": [
    "# Agent reproduction and mortality\n",
    "\n",
    "**Author: Lukas Breitwieser**<br>\n",
    "In this tutorial we want to demonstrate how to add and remove agents from the simulation.\n",
    "\n",
    "Let's start by setting up BioDynaMo notebooks."
   ]
  },
  {
   "cell_type": "code",
   "execution_count": null,
   "id": "628dae37",
   "metadata": {},
   "outputs": [],
   "source": [
    "%jsroot on\n",
    "gROOT->LoadMacro(\"${BDMSYS}/etc/rootlogon.C\");"
   ]
  },
  {
   "cell_type": "code",
   "execution_count": null,
   "id": "99248da3",
   "metadata": {},
   "outputs": [],
   "source": [
    "auto* ctxt = simulation.GetExecutionContext();\n",
    "auto* scheduler = simulation.GetScheduler();\n",
    "auto* rm = simulation.GetResourceManager();"
   ]
  },
  {
   "cell_type": "markdown",
   "id": "ad387f12",
   "metadata": {},
   "source": [
    "Let's define our initial model: One cell at origin.<br>\n",
    "We also create an agent pointer for our cell, because raw pointers might be invalidated after a call to `Scheduler::Simulate`"
   ]
  },
  {
   "cell_type": "code",
   "execution_count": null,
   "id": "71ea49a5",
   "metadata": {},
   "outputs": [],
   "source": [
    "auto* cell = new Cell();\n",
    "ctxt->AddAgent(cell);\n",
    "auto cell_aptr = cell->GetAgentPtr<Cell>();\n",
    "scheduler->FinalizeInitialization();\n",
    "VisualizeInNotebook();"
   ]
  },
  {
   "cell_type": "markdown",
   "id": "09d9c6a9",
   "metadata": {},
   "source": [
    "Adding an agent to the simulation is as easy as constructing one and adding it to the execution context.<br>\n",
    "Our default execution context will add the new agent to the simulation at the end of the iteration.<br>\n",
    "Therefore, the visualization still shows only one agent."
   ]
  },
  {
   "cell_type": "code",
   "execution_count": null,
   "id": "06f1e6cf",
   "metadata": {},
   "outputs": [],
   "source": [
    "ctxt->AddAgent(new SphericalAgent({3, 0, 0}));\n",
    "VisualizeInNotebook()"
   ]
  },
  {
   "cell_type": "markdown",
   "id": "fd025d7f",
   "metadata": {},
   "source": [
    "Let's simulate one time step and see what happens."
   ]
  },
  {
   "cell_type": "code",
   "execution_count": null,
   "id": "e6839f0e",
   "metadata": {},
   "outputs": [],
   "source": [
    "scheduler->Simulate(1);\n",
    "VisualizeInNotebook()"
   ]
  },
  {
   "cell_type": "markdown",
   "id": "3271ff63",
   "metadata": {},
   "source": [
    "Our new agent has been added to the simulation.<br>\n",
    "Usually, new agents will be created based on some process, e.g. cell division, neurite extension from soma, neurite branching, etc.\n",
    "The following example shows cell division. We specify the division axis."
   ]
  },
  {
   "cell_type": "code",
   "execution_count": null,
   "id": "3131f214",
   "metadata": {},
   "outputs": [],
   "source": [
    "cell_aptr->Divide({1, 0, 0});\n",
    "VisualizeInNotebook()"
   ]
  },
  {
   "cell_type": "markdown",
   "id": "4825d277",
   "metadata": {},
   "source": [
    "Again, the new cell is not visible yet. We have to finish one iteration."
   ]
  },
  {
   "cell_type": "code",
   "execution_count": null,
   "id": "45f93c49",
   "metadata": {},
   "outputs": [],
   "source": [
    "scheduler->Simulate(1);\n",
    "VisualizeInNotebook()"
   ]
  },
  {
   "cell_type": "markdown",
   "id": "3a6103ed",
   "metadata": {},
   "source": [
    "Removing agents from the simulation works similarly.<br>\n",
    "The default execution context will remove it at the end of the iteration."
   ]
  },
  {
   "cell_type": "code",
   "execution_count": null,
   "id": "77d63217",
   "metadata": {},
   "outputs": [],
   "source": [
    "cell_aptr->RemoveFromSimulation();\n",
    "rm->GetNumAgents();\n",
    "VisualizeInNotebook()"
   ]
  },
  {
   "cell_type": "markdown",
   "id": "23ea7e00",
   "metadata": {},
   "source": [
    "We expect that after the `Simulate` call only 2 agents are shown in the visualization."
   ]
  },
  {
   "cell_type": "code",
   "execution_count": null,
   "id": "f585c671",
   "metadata": {},
   "outputs": [],
   "source": [
    "scheduler->Simulate(1);\n",
    "VisualizeInNotebook()"
   ]
  }
 ],
 "metadata": {
  "kernelspec": {
   "display_name": "ROOT C++",
   "language": "c++",
   "name": "root"
  },
  "language_info": {
   "codemirror_mode": "text/x-c++src",
   "file_extension": ".C",
   "mimetype": " text/x-c++src",
   "name": "c++"
  }
 },
 "nbformat": 4,
 "nbformat_minor": 5
}
